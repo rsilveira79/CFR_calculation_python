{
 "cells": [
  {
   "cell_type": "code",
   "execution_count": 1,
   "metadata": {},
   "outputs": [],
   "source": [
    "import pandas as pd\n",
    "import numpy as np\n",
    "from scipy.stats import lognorm\n",
    "from tqdm import tqdm_notebook"
   ]
  },
  {
   "cell_type": "code",
   "execution_count": 2,
   "metadata": {},
   "outputs": [
    {
     "name": "stdout",
     "output_type": "stream",
     "text": [
      "case_distribution.csv   case_distribution_2.csv case_distribution_3.csv\r\n"
     ]
    }
   ],
   "source": [
    "!ls ../data"
   ]
  },
  {
   "cell_type": "markdown",
   "metadata": {},
   "source": [
    "## Functions"
   ]
  },
  {
   "cell_type": "code",
   "execution_count": 3,
   "metadata": {},
   "outputs": [],
   "source": [
    "def muTransform(zMedian):\n",
    "    return np.log(zMedian)"
   ]
  },
  {
   "cell_type": "code",
   "execution_count": 4,
   "metadata": {},
   "outputs": [],
   "source": [
    "def sigmaTransform(zMean, mu):\n",
    "    return np.sqrt(2*(np.log(zMean)-mu))"
   ]
  },
  {
   "cell_type": "code",
   "execution_count": 5,
   "metadata": {},
   "outputs": [],
   "source": [
    "def plnorm(x, mu, sigma):\n",
    "    shape  = sigma\n",
    "    loc    = 0\n",
    "    scale  = np.exp(mu)\n",
    "    return lognorm.cdf(x, shape, loc, scale)"
   ]
  },
  {
   "cell_type": "code",
   "execution_count": 6,
   "metadata": {},
   "outputs": [],
   "source": [
    "def hospitalisation_to_death_truncated(x,mu,sigma):\n",
    "    return plnorm(x + 1, mu, sigma) - plnorm(x, mu, sigma)\n",
    "\n",
    "def hospitalisation_to_death_truncated_low(x):\n",
    "    return hospitalisation_to_death_truncated(x,muLow, sigmaLow)\n",
    "\n",
    "def hospitalisation_to_death_truncated_mid(x):\n",
    "    return hospitalisation_to_death_truncated(x,muMid, sigmaMid)\n",
    "\n",
    "def hospitalisation_to_death_truncated_high(x):\n",
    "    return hospitalisation_to_death_truncated(x,muHigh, sigmaHigh)"
   ]
  },
  {
   "cell_type": "markdown",
   "metadata": {},
   "source": [
    "## Parameters"
   ]
  },
  {
   "cell_type": "code",
   "execution_count": 7,
   "metadata": {},
   "outputs": [],
   "source": [
    "# setting the baseline CFR\n",
    "cCFRBaseline = 1.4\n",
    "cCFREstimateRange = (1.2, 1.7)\n",
    "# lower end of the range\n",
    "zmeanLow = 8.7\n",
    "zmedianLow = 6.7\n",
    "# middle of the range\n",
    "zmeanMid = 13\n",
    "zmedianMid = 9.1\n",
    "# upper end of the range\n",
    "zmeanHigh = 20.9\n",
    "zmedianHigh = 13.7"
   ]
  },
  {
   "cell_type": "code",
   "execution_count": 8,
   "metadata": {},
   "outputs": [],
   "source": [
    "muLow=muTransform(zmedianLow)\n",
    "sigmaLow = sigmaTransform(zmeanLow, muLow)"
   ]
  },
  {
   "cell_type": "code",
   "execution_count": 9,
   "metadata": {},
   "outputs": [],
   "source": [
    "muMid = muTransform(zmedianMid)\n",
    "sigmaMid = sigmaTransform(zmeanMid, muMid)"
   ]
  },
  {
   "cell_type": "code",
   "execution_count": 10,
   "metadata": {},
   "outputs": [],
   "source": [
    "muHigh = muTransform(zmedianHigh)\n",
    "sigmaHigh = sigmaTransform(zmeanHigh, muHigh)"
   ]
  },
  {
   "cell_type": "code",
   "execution_count": 11,
   "metadata": {},
   "outputs": [
    {
     "data": {
      "text/plain": [
       "(1.9021075263969205, 2.2082744135228043, 2.617395832834079)"
      ]
     },
     "execution_count": 11,
     "metadata": {},
     "output_type": "execute_result"
    }
   ],
   "source": [
    "muLow, muMid, muHigh"
   ]
  },
  {
   "cell_type": "code",
   "execution_count": 12,
   "metadata": {},
   "outputs": [
    {
     "data": {
      "text/plain": [
       "(0.7227938838474179, 0.8446004309005916, 0.9190792415637358)"
      ]
     },
     "execution_count": 12,
     "metadata": {},
     "output_type": "execute_result"
    }
   ],
   "source": [
    "sigmaLow, sigmaMid, sigmaHigh"
   ]
  },
  {
   "cell_type": "markdown",
   "metadata": {},
   "source": [
    "## Clean Dataset"
   ]
  },
  {
   "cell_type": "code",
   "execution_count": 13,
   "metadata": {},
   "outputs": [
    {
     "data": {
      "text/html": [
       "<div>\n",
       "<style scoped>\n",
       "    .dataframe tbody tr th:only-of-type {\n",
       "        vertical-align: middle;\n",
       "    }\n",
       "\n",
       "    .dataframe tbody tr th {\n",
       "        vertical-align: top;\n",
       "    }\n",
       "\n",
       "    .dataframe thead th {\n",
       "        text-align: right;\n",
       "    }\n",
       "</style>\n",
       "<table border=\"1\" class=\"dataframe\">\n",
       "  <thead>\n",
       "    <tr style=\"text-align: right;\">\n",
       "      <th></th>\n",
       "      <th>dateRep</th>\n",
       "      <th>day</th>\n",
       "      <th>month</th>\n",
       "      <th>year</th>\n",
       "      <th>cases</th>\n",
       "      <th>deaths</th>\n",
       "      <th>countriesAndTerritories</th>\n",
       "      <th>geoId</th>\n",
       "      <th>countryterritoryCode</th>\n",
       "      <th>popData2018</th>\n",
       "    </tr>\n",
       "  </thead>\n",
       "  <tbody>\n",
       "    <tr>\n",
       "      <th>10942</th>\n",
       "      <td>25/03/2020</td>\n",
       "      <td>25</td>\n",
       "      <td>3</td>\n",
       "      <td>2020</td>\n",
       "      <td>0</td>\n",
       "      <td>0</td>\n",
       "      <td>Zimbabwe</td>\n",
       "      <td>ZW</td>\n",
       "      <td>ZWE</td>\n",
       "      <td>14439018.0</td>\n",
       "    </tr>\n",
       "    <tr>\n",
       "      <th>10943</th>\n",
       "      <td>24/03/2020</td>\n",
       "      <td>24</td>\n",
       "      <td>3</td>\n",
       "      <td>2020</td>\n",
       "      <td>0</td>\n",
       "      <td>1</td>\n",
       "      <td>Zimbabwe</td>\n",
       "      <td>ZW</td>\n",
       "      <td>ZWE</td>\n",
       "      <td>14439018.0</td>\n",
       "    </tr>\n",
       "    <tr>\n",
       "      <th>10944</th>\n",
       "      <td>23/03/2020</td>\n",
       "      <td>23</td>\n",
       "      <td>3</td>\n",
       "      <td>2020</td>\n",
       "      <td>0</td>\n",
       "      <td>0</td>\n",
       "      <td>Zimbabwe</td>\n",
       "      <td>ZW</td>\n",
       "      <td>ZWE</td>\n",
       "      <td>14439018.0</td>\n",
       "    </tr>\n",
       "    <tr>\n",
       "      <th>10945</th>\n",
       "      <td>22/03/2020</td>\n",
       "      <td>22</td>\n",
       "      <td>3</td>\n",
       "      <td>2020</td>\n",
       "      <td>1</td>\n",
       "      <td>0</td>\n",
       "      <td>Zimbabwe</td>\n",
       "      <td>ZW</td>\n",
       "      <td>ZWE</td>\n",
       "      <td>14439018.0</td>\n",
       "    </tr>\n",
       "    <tr>\n",
       "      <th>10946</th>\n",
       "      <td>21/03/2020</td>\n",
       "      <td>21</td>\n",
       "      <td>3</td>\n",
       "      <td>2020</td>\n",
       "      <td>1</td>\n",
       "      <td>0</td>\n",
       "      <td>Zimbabwe</td>\n",
       "      <td>ZW</td>\n",
       "      <td>ZWE</td>\n",
       "      <td>14439018.0</td>\n",
       "    </tr>\n",
       "  </tbody>\n",
       "</table>\n",
       "</div>"
      ],
      "text/plain": [
       "          dateRep  day  month  year  cases  deaths countriesAndTerritories  \\\n",
       "10942  25/03/2020   25      3  2020      0       0                Zimbabwe   \n",
       "10943  24/03/2020   24      3  2020      0       1                Zimbabwe   \n",
       "10944  23/03/2020   23      3  2020      0       0                Zimbabwe   \n",
       "10945  22/03/2020   22      3  2020      1       0                Zimbabwe   \n",
       "10946  21/03/2020   21      3  2020      1       0                Zimbabwe   \n",
       "\n",
       "      geoId countryterritoryCode  popData2018  \n",
       "10942    ZW                  ZWE   14439018.0  \n",
       "10943    ZW                  ZWE   14439018.0  \n",
       "10944    ZW                  ZWE   14439018.0  \n",
       "10945    ZW                  ZWE   14439018.0  \n",
       "10946    ZW                  ZWE   14439018.0  "
      ]
     },
     "execution_count": 13,
     "metadata": {},
     "output_type": "execute_result"
    }
   ],
   "source": [
    "dataset = pd.read_csv('../data/case_distribution_3.csv')\n",
    "dataset.tail()"
   ]
  },
  {
   "cell_type": "code",
   "execution_count": 14,
   "metadata": {},
   "outputs": [],
   "source": [
    "dataset.rename(columns = {\n",
    "    \"dateRep\": \"date\",\n",
    "    \"cases\": \"new_cases\",\n",
    "    \"deaths\": \"new_deaths\",\n",
    "    \"countriesAndTerritories\": \"country\"\n",
    "},inplace=True)\n",
    "allTogetherClean = dataset[['date', 'country', 'new_cases', 'new_deaths']]"
   ]
  },
  {
   "cell_type": "code",
   "execution_count": 15,
   "metadata": {},
   "outputs": [
    {
     "data": {
      "text/html": [
       "<div>\n",
       "<style scoped>\n",
       "    .dataframe tbody tr th:only-of-type {\n",
       "        vertical-align: middle;\n",
       "    }\n",
       "\n",
       "    .dataframe tbody tr th {\n",
       "        vertical-align: top;\n",
       "    }\n",
       "\n",
       "    .dataframe thead th {\n",
       "        text-align: right;\n",
       "    }\n",
       "</style>\n",
       "<table border=\"1\" class=\"dataframe\">\n",
       "  <thead>\n",
       "    <tr style=\"text-align: right;\">\n",
       "      <th></th>\n",
       "      <th>date</th>\n",
       "      <th>country</th>\n",
       "      <th>new_cases</th>\n",
       "      <th>new_deaths</th>\n",
       "    </tr>\n",
       "  </thead>\n",
       "  <tbody>\n",
       "    <tr>\n",
       "      <th>10942</th>\n",
       "      <td>25/03/2020</td>\n",
       "      <td>Zimbabwe</td>\n",
       "      <td>0</td>\n",
       "      <td>0</td>\n",
       "    </tr>\n",
       "    <tr>\n",
       "      <th>10943</th>\n",
       "      <td>24/03/2020</td>\n",
       "      <td>Zimbabwe</td>\n",
       "      <td>0</td>\n",
       "      <td>1</td>\n",
       "    </tr>\n",
       "    <tr>\n",
       "      <th>10944</th>\n",
       "      <td>23/03/2020</td>\n",
       "      <td>Zimbabwe</td>\n",
       "      <td>0</td>\n",
       "      <td>0</td>\n",
       "    </tr>\n",
       "    <tr>\n",
       "      <th>10945</th>\n",
       "      <td>22/03/2020</td>\n",
       "      <td>Zimbabwe</td>\n",
       "      <td>1</td>\n",
       "      <td>0</td>\n",
       "    </tr>\n",
       "    <tr>\n",
       "      <th>10946</th>\n",
       "      <td>21/03/2020</td>\n",
       "      <td>Zimbabwe</td>\n",
       "      <td>1</td>\n",
       "      <td>0</td>\n",
       "    </tr>\n",
       "  </tbody>\n",
       "</table>\n",
       "</div>"
      ],
      "text/plain": [
       "             date   country  new_cases  new_deaths\n",
       "10942  25/03/2020  Zimbabwe          0           0\n",
       "10943  24/03/2020  Zimbabwe          0           1\n",
       "10944  23/03/2020  Zimbabwe          0           0\n",
       "10945  22/03/2020  Zimbabwe          1           0\n",
       "10946  21/03/2020  Zimbabwe          1           0"
      ]
     },
     "execution_count": 15,
     "metadata": {},
     "output_type": "execute_result"
    }
   ],
   "source": [
    "## Exclude some countries\n",
    "exclude_coutries = ['Canada','Cases_on_an_international_conveyance_Japan']\n",
    "allTogetherClean = allTogetherClean[~allTogetherClean.country.isin(exclude_coutries)]\n",
    "allTogetherClean.tail()"
   ]
  },
  {
   "cell_type": "code",
   "execution_count": 16,
   "metadata": {},
   "outputs": [],
   "source": [
    "## Remove lower data points\n",
    "threshold = 10\n",
    "list_filtered_countried = allTogetherClean.groupby('country').filter(lambda x: x['new_deaths'].sum()>threshold)['country'].unique()"
   ]
  },
  {
   "cell_type": "code",
   "execution_count": 17,
   "metadata": {},
   "outputs": [
    {
     "data": {
      "text/html": [
       "<div>\n",
       "<style scoped>\n",
       "    .dataframe tbody tr th:only-of-type {\n",
       "        vertical-align: middle;\n",
       "    }\n",
       "\n",
       "    .dataframe tbody tr th {\n",
       "        vertical-align: top;\n",
       "    }\n",
       "\n",
       "    .dataframe thead th {\n",
       "        text-align: right;\n",
       "    }\n",
       "</style>\n",
       "<table border=\"1\" class=\"dataframe\">\n",
       "  <thead>\n",
       "    <tr style=\"text-align: right;\">\n",
       "      <th></th>\n",
       "      <th>date</th>\n",
       "      <th>country</th>\n",
       "      <th>new_cases</th>\n",
       "      <th>new_deaths</th>\n",
       "    </tr>\n",
       "  </thead>\n",
       "  <tbody>\n",
       "    <tr>\n",
       "      <th>6447</th>\n",
       "      <td>04/01/2020</td>\n",
       "      <td>United_States_of_America</td>\n",
       "      <td>0</td>\n",
       "      <td>0</td>\n",
       "    </tr>\n",
       "    <tr>\n",
       "      <th>6448</th>\n",
       "      <td>03/01/2020</td>\n",
       "      <td>United_States_of_America</td>\n",
       "      <td>0</td>\n",
       "      <td>0</td>\n",
       "    </tr>\n",
       "    <tr>\n",
       "      <th>6449</th>\n",
       "      <td>02/01/2020</td>\n",
       "      <td>United_States_of_America</td>\n",
       "      <td>0</td>\n",
       "      <td>0</td>\n",
       "    </tr>\n",
       "    <tr>\n",
       "      <th>6450</th>\n",
       "      <td>01/01/2020</td>\n",
       "      <td>United_States_of_America</td>\n",
       "      <td>0</td>\n",
       "      <td>0</td>\n",
       "    </tr>\n",
       "    <tr>\n",
       "      <th>6451</th>\n",
       "      <td>31/12/2019</td>\n",
       "      <td>United_States_of_America</td>\n",
       "      <td>0</td>\n",
       "      <td>0</td>\n",
       "    </tr>\n",
       "  </tbody>\n",
       "</table>\n",
       "</div>"
      ],
      "text/plain": [
       "            date                   country  new_cases  new_deaths\n",
       "6447  04/01/2020  United_States_of_America          0           0\n",
       "6448  03/01/2020  United_States_of_America          0           0\n",
       "6449  02/01/2020  United_States_of_America          0           0\n",
       "6450  01/01/2020  United_States_of_America          0           0\n",
       "6451  31/12/2019  United_States_of_America          0           0"
      ]
     },
     "execution_count": 17,
     "metadata": {},
     "output_type": "execute_result"
    }
   ],
   "source": [
    "allTogetherClean = allTogetherClean[allTogetherClean.country.isin(list_filtered_countried)].reset_index(drop=True)\n",
    "allTogetherClean.tail()"
   ]
  },
  {
   "cell_type": "markdown",
   "metadata": {},
   "source": [
    "## Calculate UnderReporting"
   ]
  },
  {
   "cell_type": "code",
   "execution_count": 18,
   "metadata": {},
   "outputs": [
    {
     "data": {
      "text/html": [
       "<div>\n",
       "<style scoped>\n",
       "    .dataframe tbody tr th:only-of-type {\n",
       "        vertical-align: middle;\n",
       "    }\n",
       "\n",
       "    .dataframe tbody tr th {\n",
       "        vertical-align: top;\n",
       "    }\n",
       "\n",
       "    .dataframe thead th {\n",
       "        text-align: right;\n",
       "    }\n",
       "</style>\n",
       "<table border=\"1\" class=\"dataframe\">\n",
       "  <thead>\n",
       "    <tr style=\"text-align: right;\">\n",
       "      <th></th>\n",
       "      <th>date</th>\n",
       "      <th>country</th>\n",
       "      <th>new_cases</th>\n",
       "      <th>new_deaths</th>\n",
       "    </tr>\n",
       "  </thead>\n",
       "  <tbody>\n",
       "    <tr>\n",
       "      <th>0</th>\n",
       "      <td>15/04/2020</td>\n",
       "      <td>Afghanistan</td>\n",
       "      <td>49</td>\n",
       "      <td>2</td>\n",
       "    </tr>\n",
       "    <tr>\n",
       "      <th>1</th>\n",
       "      <td>14/04/2020</td>\n",
       "      <td>Afghanistan</td>\n",
       "      <td>58</td>\n",
       "      <td>3</td>\n",
       "    </tr>\n",
       "    <tr>\n",
       "      <th>2</th>\n",
       "      <td>13/04/2020</td>\n",
       "      <td>Afghanistan</td>\n",
       "      <td>52</td>\n",
       "      <td>0</td>\n",
       "    </tr>\n",
       "  </tbody>\n",
       "</table>\n",
       "</div>"
      ],
      "text/plain": [
       "         date      country  new_cases  new_deaths\n",
       "0  15/04/2020  Afghanistan         49           2\n",
       "1  14/04/2020  Afghanistan         58           3\n",
       "2  13/04/2020  Afghanistan         52           0"
      ]
     },
     "execution_count": 18,
     "metadata": {},
     "output_type": "execute_result"
    }
   ],
   "source": [
    "allTogetherClean.head(3)"
   ]
  },
  {
   "cell_type": "markdown",
   "metadata": {},
   "source": [
    "$$u_{t}=\\frac{\\sum_{j=0}^{t}c_{t-j}f_{j}}{c_{t}}$$\n",
    "\n",
    "where:  \n",
    "$u_{t}$ = underestimation of the proportion of cases with known outcomes  \n",
    "$c_{t}$ = daily case incidence at time t  \n",
    "$f_{t}$ = proportion of cases with delay of t between confirmation and death"
   ]
  },
  {
   "cell_type": "code",
   "execution_count": 19,
   "metadata": {},
   "outputs": [],
   "source": [
    "def calculate_underestimate(country, delay_func):\n",
    "    df = allTogetherClean[allTogetherClean.country==country].iloc[::-1].reset_index(drop=True)\n",
    "    cumulative_known_t = 0\n",
    "    for ii in range(0,len(df)):\n",
    "        #print(\"ii\",ii)\n",
    "        known_i = 0\n",
    "        for jj in range(0,ii+1):\n",
    "            #print(\"jj\",jj)\n",
    "            known_jj = df['new_cases'].loc[ii-jj]*delay_func(jj)\n",
    "            known_i = known_i + known_jj\n",
    "        cumulative_known_t = cumulative_known_t + known_i\n",
    "        #print(\"-\"*30)\n",
    "    cum_known_t = round(cumulative_known_t)\n",
    "    # naive CFR value\n",
    "    nCFR = df['new_deaths'].sum()/df['new_cases'].sum()\n",
    "    # corrected CFR estimator\n",
    "    cCFR = df['new_deaths'].sum()/cum_known_t\n",
    "    total_deaths = df['new_deaths'].sum()\n",
    "    total_cases = df['new_cases'].sum()\n",
    "    return nCFR, cCFR, total_deaths, cum_known_t, total_cases"
   ]
  },
  {
   "cell_type": "code",
   "execution_count": 20,
   "metadata": {},
   "outputs": [
    {
     "data": {
      "text/plain": [
       "(0.05052631578947368, 0.06722689075630252, 24, 357.0, 475)"
      ]
     },
     "execution_count": 20,
     "metadata": {},
     "output_type": "execute_result"
    }
   ],
   "source": [
    "calculate_underestimate(\"Albania\", hospitalisation_to_death_truncated_low)"
   ]
  },
  {
   "cell_type": "code",
   "execution_count": 21,
   "metadata": {},
   "outputs": [
    {
     "data": {
      "text/plain": [
       "(0.03221288515406162, 0.059431524547803614, 23, 387.0, 714)"
      ]
     },
     "execution_count": 21,
     "metadata": {},
     "output_type": "execute_result"
    }
   ],
   "source": [
    "calculate_underestimate(\"Afghanistan\", hospitalisation_to_death_truncated_low)"
   ]
  },
  {
   "cell_type": "code",
   "execution_count": 22,
   "metadata": {},
   "outputs": [
    {
     "data": {
      "text/plain": [
       "(0.04317434210526316, 0.0644963144963145, 105, 1628.0, 2432)"
      ]
     },
     "execution_count": 22,
     "metadata": {},
     "output_type": "execute_result"
    }
   ],
   "source": [
    "calculate_underestimate(\"Argentina\", hospitalisation_to_death_truncated_low)"
   ]
  },
  {
   "cell_type": "code",
   "execution_count": 23,
   "metadata": {},
   "outputs": [
    {
     "data": {
      "text/plain": [
       "(0.06064444620378434, 0.1072078376487054, 1532, 14290.0, 25262)"
      ]
     },
     "execution_count": 23,
     "metadata": {},
     "output_type": "execute_result"
    }
   ],
   "source": [
    "calculate_underestimate(\"Brazil\", hospitalisation_to_death_truncated_low)"
   ]
  },
  {
   "cell_type": "code",
   "execution_count": 24,
   "metadata": {},
   "outputs": [],
   "source": [
    "def return_complete_df(dataframe, delay_func):\n",
    "    all_countries = allTogetherClean['country'].unique()\n",
    "    new_df = pd.DataFrame(columns = [\n",
    "        'country','nCFR', 'cCFR', 'total_deaths', 'cum_known_t', 'total_cases'])\n",
    "    for c in tqdm_notebook(all_countries):\n",
    "        nCFR, cCFR, total_deaths, cum_known_t, total_cases = calculate_underestimate(c,delay_func)\n",
    "        new_row = {'country':c}\n",
    "        new_df = new_df.append({'country':c,\n",
    "                       'nCFR':nCFR,\n",
    "                       'cCFR': cCFR,\n",
    "                       'total_deaths': total_deaths,\n",
    "                       'cum_known_t': int(cum_known_t),\n",
    "                       'total_cases': total_cases\n",
    "                      }, ignore_index=True)\n",
    "    return new_df"
   ]
  },
  {
   "cell_type": "code",
   "execution_count": 27,
   "metadata": {},
   "outputs": [
    {
     "data": {
      "application/vnd.jupyter.widget-view+json": {
       "model_id": "adf1b51eb571426c8e117b6b906fedd6",
       "version_major": 2,
       "version_minor": 0
      },
      "text/plain": [
       "HBox(children=(IntProgress(value=0, max=84), HTML(value='')))"
      ]
     },
     "metadata": {},
     "output_type": "display_data"
    },
    {
     "name": "stdout",
     "output_type": "stream",
     "text": [
      "\n"
     ]
    },
    {
     "data": {
      "application/vnd.jupyter.widget-view+json": {
       "model_id": "c742a65bd457459c96de3371de7f45dd",
       "version_major": 2,
       "version_minor": 0
      },
      "text/plain": [
       "HBox(children=(IntProgress(value=0, max=84), HTML(value='')))"
      ]
     },
     "metadata": {},
     "output_type": "display_data"
    },
    {
     "name": "stdout",
     "output_type": "stream",
     "text": [
      "\n"
     ]
    },
    {
     "data": {
      "application/vnd.jupyter.widget-view+json": {
       "model_id": "ec158badbdaf4427be5d2090e56629b0",
       "version_major": 2,
       "version_minor": 0
      },
      "text/plain": [
       "HBox(children=(IntProgress(value=0, max=84), HTML(value='')))"
      ]
     },
     "metadata": {},
     "output_type": "display_data"
    },
    {
     "name": "stdout",
     "output_type": "stream",
     "text": [
      "\n"
     ]
    }
   ],
   "source": [
    "allTogetherLow = return_complete_df(allTogetherClean, hospitalisation_to_death_truncated_low)\n",
    "allTogetherMid = return_complete_df(allTogetherClean, hospitalisation_to_death_truncated_mid)\n",
    "allTogetherHigh = return_complete_df(allTogetherClean, hospitalisation_to_death_truncated_high)"
   ]
  },
  {
   "cell_type": "code",
   "execution_count": 31,
   "metadata": {},
   "outputs": [
    {
     "data": {
      "text/html": [
       "<div>\n",
       "<style scoped>\n",
       "    .dataframe tbody tr th:only-of-type {\n",
       "        vertical-align: middle;\n",
       "    }\n",
       "\n",
       "    .dataframe tbody tr th {\n",
       "        vertical-align: top;\n",
       "    }\n",
       "\n",
       "    .dataframe thead th {\n",
       "        text-align: right;\n",
       "    }\n",
       "</style>\n",
       "<table border=\"1\" class=\"dataframe\">\n",
       "  <thead>\n",
       "    <tr style=\"text-align: right;\">\n",
       "      <th></th>\n",
       "      <th>country</th>\n",
       "      <th>nCFR</th>\n",
       "      <th>cCFR</th>\n",
       "      <th>total_deaths</th>\n",
       "      <th>cum_known_t</th>\n",
       "      <th>total_cases</th>\n",
       "    </tr>\n",
       "  </thead>\n",
       "  <tbody>\n",
       "    <tr>\n",
       "      <th>0</th>\n",
       "      <td>Afghanistan</td>\n",
       "      <td>0.032213</td>\n",
       "      <td>0.059432</td>\n",
       "      <td>23</td>\n",
       "      <td>387</td>\n",
       "      <td>714</td>\n",
       "    </tr>\n",
       "    <tr>\n",
       "      <th>1</th>\n",
       "      <td>Albania</td>\n",
       "      <td>0.050526</td>\n",
       "      <td>0.067227</td>\n",
       "      <td>24</td>\n",
       "      <td>357</td>\n",
       "      <td>475</td>\n",
       "    </tr>\n",
       "    <tr>\n",
       "      <th>2</th>\n",
       "      <td>Algeria</td>\n",
       "      <td>0.157488</td>\n",
       "      <td>0.236403</td>\n",
       "      <td>326</td>\n",
       "      <td>1379</td>\n",
       "      <td>2070</td>\n",
       "    </tr>\n",
       "    <tr>\n",
       "      <th>3</th>\n",
       "      <td>Andorra</td>\n",
       "      <td>0.047041</td>\n",
       "      <td>0.060904</td>\n",
       "      <td>31</td>\n",
       "      <td>509</td>\n",
       "      <td>659</td>\n",
       "    </tr>\n",
       "    <tr>\n",
       "      <th>4</th>\n",
       "      <td>Argentina</td>\n",
       "      <td>0.043174</td>\n",
       "      <td>0.064496</td>\n",
       "      <td>105</td>\n",
       "      <td>1628</td>\n",
       "      <td>2432</td>\n",
       "    </tr>\n",
       "  </tbody>\n",
       "</table>\n",
       "</div>"
      ],
      "text/plain": [
       "       country      nCFR      cCFR total_deaths cum_known_t total_cases\n",
       "0  Afghanistan  0.032213  0.059432           23         387         714\n",
       "1      Albania  0.050526  0.067227           24         357         475\n",
       "2      Algeria  0.157488  0.236403          326        1379        2070\n",
       "3      Andorra  0.047041  0.060904           31         509         659\n",
       "4    Argentina  0.043174  0.064496          105        1628        2432"
      ]
     },
     "execution_count": 31,
     "metadata": {},
     "output_type": "execute_result"
    }
   ],
   "source": [
    "allTogetherLow.head()"
   ]
  },
  {
   "cell_type": "code",
   "execution_count": 32,
   "metadata": {},
   "outputs": [
    {
     "data": {
      "text/html": [
       "<div>\n",
       "<style scoped>\n",
       "    .dataframe tbody tr th:only-of-type {\n",
       "        vertical-align: middle;\n",
       "    }\n",
       "\n",
       "    .dataframe tbody tr th {\n",
       "        vertical-align: top;\n",
       "    }\n",
       "\n",
       "    .dataframe thead th {\n",
       "        text-align: right;\n",
       "    }\n",
       "</style>\n",
       "<table border=\"1\" class=\"dataframe\">\n",
       "  <thead>\n",
       "    <tr style=\"text-align: right;\">\n",
       "      <th></th>\n",
       "      <th>country</th>\n",
       "      <th>nCFR</th>\n",
       "      <th>cCFR</th>\n",
       "      <th>total_deaths</th>\n",
       "      <th>cum_known_t</th>\n",
       "      <th>total_cases</th>\n",
       "    </tr>\n",
       "  </thead>\n",
       "  <tbody>\n",
       "    <tr>\n",
       "      <th>0</th>\n",
       "      <td>Afghanistan</td>\n",
       "      <td>0.032213</td>\n",
       "      <td>0.073718</td>\n",
       "      <td>23</td>\n",
       "      <td>312</td>\n",
       "      <td>714</td>\n",
       "    </tr>\n",
       "    <tr>\n",
       "      <th>1</th>\n",
       "      <td>Albania</td>\n",
       "      <td>0.050526</td>\n",
       "      <td>0.078947</td>\n",
       "      <td>24</td>\n",
       "      <td>304</td>\n",
       "      <td>475</td>\n",
       "    </tr>\n",
       "    <tr>\n",
       "      <th>2</th>\n",
       "      <td>Algeria</td>\n",
       "      <td>0.157488</td>\n",
       "      <td>0.289007</td>\n",
       "      <td>326</td>\n",
       "      <td>1128</td>\n",
       "      <td>2070</td>\n",
       "    </tr>\n",
       "    <tr>\n",
       "      <th>3</th>\n",
       "      <td>Andorra</td>\n",
       "      <td>0.047041</td>\n",
       "      <td>0.071429</td>\n",
       "      <td>31</td>\n",
       "      <td>434</td>\n",
       "      <td>659</td>\n",
       "    </tr>\n",
       "    <tr>\n",
       "      <th>4</th>\n",
       "      <td>Argentina</td>\n",
       "      <td>0.043174</td>\n",
       "      <td>0.077206</td>\n",
       "      <td>105</td>\n",
       "      <td>1360</td>\n",
       "      <td>2432</td>\n",
       "    </tr>\n",
       "  </tbody>\n",
       "</table>\n",
       "</div>"
      ],
      "text/plain": [
       "       country      nCFR      cCFR total_deaths cum_known_t total_cases\n",
       "0  Afghanistan  0.032213  0.073718           23         312         714\n",
       "1      Albania  0.050526  0.078947           24         304         475\n",
       "2      Algeria  0.157488  0.289007          326        1128        2070\n",
       "3      Andorra  0.047041  0.071429           31         434         659\n",
       "4    Argentina  0.043174  0.077206          105        1360        2432"
      ]
     },
     "execution_count": 32,
     "metadata": {},
     "output_type": "execute_result"
    }
   ],
   "source": [
    "allTogetherMid.head()"
   ]
  },
  {
   "cell_type": "code",
   "execution_count": 33,
   "metadata": {},
   "outputs": [
    {
     "data": {
      "text/html": [
       "<div>\n",
       "<style scoped>\n",
       "    .dataframe tbody tr th:only-of-type {\n",
       "        vertical-align: middle;\n",
       "    }\n",
       "\n",
       "    .dataframe tbody tr th {\n",
       "        vertical-align: top;\n",
       "    }\n",
       "\n",
       "    .dataframe thead th {\n",
       "        text-align: right;\n",
       "    }\n",
       "</style>\n",
       "<table border=\"1\" class=\"dataframe\">\n",
       "  <thead>\n",
       "    <tr style=\"text-align: right;\">\n",
       "      <th></th>\n",
       "      <th>country</th>\n",
       "      <th>nCFR</th>\n",
       "      <th>cCFR</th>\n",
       "      <th>total_deaths</th>\n",
       "      <th>cum_known_t</th>\n",
       "      <th>total_cases</th>\n",
       "    </tr>\n",
       "  </thead>\n",
       "  <tbody>\n",
       "    <tr>\n",
       "      <th>0</th>\n",
       "      <td>Afghanistan</td>\n",
       "      <td>0.032213</td>\n",
       "      <td>0.103139</td>\n",
       "      <td>23</td>\n",
       "      <td>223</td>\n",
       "      <td>714</td>\n",
       "    </tr>\n",
       "    <tr>\n",
       "      <th>1</th>\n",
       "      <td>Albania</td>\n",
       "      <td>0.050526</td>\n",
       "      <td>0.101695</td>\n",
       "      <td>24</td>\n",
       "      <td>236</td>\n",
       "      <td>475</td>\n",
       "    </tr>\n",
       "    <tr>\n",
       "      <th>2</th>\n",
       "      <td>Algeria</td>\n",
       "      <td>0.157488</td>\n",
       "      <td>0.394196</td>\n",
       "      <td>326</td>\n",
       "      <td>827</td>\n",
       "      <td>2070</td>\n",
       "    </tr>\n",
       "    <tr>\n",
       "      <th>3</th>\n",
       "      <td>Andorra</td>\n",
       "      <td>0.047041</td>\n",
       "      <td>0.092537</td>\n",
       "      <td>31</td>\n",
       "      <td>335</td>\n",
       "      <td>659</td>\n",
       "    </tr>\n",
       "    <tr>\n",
       "      <th>4</th>\n",
       "      <td>Argentina</td>\n",
       "      <td>0.043174</td>\n",
       "      <td>0.102539</td>\n",
       "      <td>105</td>\n",
       "      <td>1024</td>\n",
       "      <td>2432</td>\n",
       "    </tr>\n",
       "  </tbody>\n",
       "</table>\n",
       "</div>"
      ],
      "text/plain": [
       "       country      nCFR      cCFR total_deaths cum_known_t total_cases\n",
       "0  Afghanistan  0.032213  0.103139           23         223         714\n",
       "1      Albania  0.050526  0.101695           24         236         475\n",
       "2      Algeria  0.157488  0.394196          326         827        2070\n",
       "3      Andorra  0.047041  0.092537           31         335         659\n",
       "4    Argentina  0.043174  0.102539          105        1024        2432"
      ]
     },
     "execution_count": 33,
     "metadata": {},
     "output_type": "execute_result"
    }
   ],
   "source": [
    "allTogetherHigh.head()"
   ]
  },
  {
   "cell_type": "markdown",
   "metadata": {},
   "source": [
    "# Sources\n",
    "1. https://cmmid.github.io/topics/covid19/severity/global_cfr_estimates.html"
   ]
  }
 ],
 "metadata": {
  "kernelspec": {
   "display_name": "Bayesian",
   "language": "python",
   "name": "bayesian"
  },
  "language_info": {
   "codemirror_mode": {
    "name": "ipython",
    "version": 3
   },
   "file_extension": ".py",
   "mimetype": "text/x-python",
   "name": "python",
   "nbconvert_exporter": "python",
   "pygments_lexer": "ipython3",
   "version": "3.6.5"
  }
 },
 "nbformat": 4,
 "nbformat_minor": 2
}
