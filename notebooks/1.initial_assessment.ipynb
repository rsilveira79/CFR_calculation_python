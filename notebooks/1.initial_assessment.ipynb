{
 "cells": [
  {
   "cell_type": "code",
   "execution_count": 21,
   "metadata": {},
   "outputs": [],
   "source": [
    "import io\n",
    "import requests\n",
    "import pandas as pd\n",
    "import numpy as np\n",
    "from scipy.stats import lognorm\n",
    "from tqdm import tqdm_notebook\n",
    "from statsmodels.stats.proportion import proportion_confint\n",
    "from datetime import date, datetime"
   ]
  },
  {
   "cell_type": "markdown",
   "metadata": {},
   "source": [
    "## Functions"
   ]
  },
  {
   "cell_type": "code",
   "execution_count": 22,
   "metadata": {},
   "outputs": [],
   "source": [
    "def muTransform(zMedian):\n",
    "    return np.log(zMedian)"
   ]
  },
  {
   "cell_type": "code",
   "execution_count": 23,
   "metadata": {},
   "outputs": [],
   "source": [
    "def sigmaTransform(zMean, mu):\n",
    "    return np.sqrt(2*(np.log(zMean)-mu))"
   ]
  },
  {
   "cell_type": "code",
   "execution_count": 24,
   "metadata": {},
   "outputs": [],
   "source": [
    "def plnorm(x, mu, sigma):\n",
    "    shape  = sigma\n",
    "    loc    = 0\n",
    "    scale  = np.exp(mu)\n",
    "    return lognorm.cdf(x, shape, loc, scale)"
   ]
  },
  {
   "cell_type": "code",
   "execution_count": 25,
   "metadata": {},
   "outputs": [],
   "source": [
    "def hospitalisation_to_death_truncated(x,mu,sigma):\n",
    "    return plnorm(x + 1, mu, sigma) - plnorm(x, mu, sigma)\n",
    "\n",
    "def hospitalisation_to_death_truncated_low(x):\n",
    "    return hospitalisation_to_death_truncated(x,muLow, sigmaLow)\n",
    "\n",
    "def hospitalisation_to_death_truncated_mid(x):\n",
    "    return hospitalisation_to_death_truncated(x,muMid, sigmaMid)\n",
    "\n",
    "def hospitalisation_to_death_truncated_high(x):\n",
    "    return hospitalisation_to_death_truncated(x,muHigh, sigmaHigh)"
   ]
  },
  {
   "cell_type": "markdown",
   "metadata": {},
   "source": [
    "## Parameters"
   ]
  },
  {
   "cell_type": "code",
   "execution_count": 26,
   "metadata": {},
   "outputs": [],
   "source": [
    "# setting the baseline CFR\n",
    "cCFRBaseline = 1.4\n",
    "cCFREstimateRange = (1.2, 1.7)\n",
    "# lower end of the range\n",
    "zmeanLow = 8.7\n",
    "zmedianLow = 6.7\n",
    "# middle of the range\n",
    "zmeanMid = 13\n",
    "zmedianMid = 9.1\n",
    "# upper end of the range\n",
    "zmeanHigh = 20.9\n",
    "zmedianHigh = 13.7"
   ]
  },
  {
   "cell_type": "code",
   "execution_count": 27,
   "metadata": {},
   "outputs": [],
   "source": [
    "muLow=muTransform(zmedianLow)\n",
    "sigmaLow = sigmaTransform(zmeanLow, muLow)"
   ]
  },
  {
   "cell_type": "code",
   "execution_count": 28,
   "metadata": {},
   "outputs": [],
   "source": [
    "muMid = muTransform(zmedianMid)\n",
    "sigmaMid = sigmaTransform(zmeanMid, muMid)"
   ]
  },
  {
   "cell_type": "code",
   "execution_count": 29,
   "metadata": {},
   "outputs": [],
   "source": [
    "muHigh = muTransform(zmedianHigh)\n",
    "sigmaHigh = sigmaTransform(zmeanHigh, muHigh)"
   ]
  },
  {
   "cell_type": "markdown",
   "metadata": {},
   "source": [
    "## Clean Dataset"
   ]
  },
  {
   "cell_type": "code",
   "execution_count": 30,
   "metadata": {},
   "outputs": [
    {
     "data": {
      "text/html": [
       "<div>\n",
       "<style scoped>\n",
       "    .dataframe tbody tr th:only-of-type {\n",
       "        vertical-align: middle;\n",
       "    }\n",
       "\n",
       "    .dataframe tbody tr th {\n",
       "        vertical-align: top;\n",
       "    }\n",
       "\n",
       "    .dataframe thead th {\n",
       "        text-align: right;\n",
       "    }\n",
       "</style>\n",
       "<table border=\"1\" class=\"dataframe\">\n",
       "  <thead>\n",
       "    <tr style=\"text-align: right;\">\n",
       "      <th></th>\n",
       "      <th>dateRep</th>\n",
       "      <th>day</th>\n",
       "      <th>month</th>\n",
       "      <th>year</th>\n",
       "      <th>cases</th>\n",
       "      <th>deaths</th>\n",
       "      <th>countriesAndTerritories</th>\n",
       "      <th>geoId</th>\n",
       "      <th>countryterritoryCode</th>\n",
       "      <th>popData2018</th>\n",
       "    </tr>\n",
       "  </thead>\n",
       "  <tbody>\n",
       "    <tr>\n",
       "      <th>11147</th>\n",
       "      <td>25/03/2020</td>\n",
       "      <td>25</td>\n",
       "      <td>3</td>\n",
       "      <td>2020</td>\n",
       "      <td>0</td>\n",
       "      <td>0</td>\n",
       "      <td>Zimbabwe</td>\n",
       "      <td>ZW</td>\n",
       "      <td>ZWE</td>\n",
       "      <td>14439018.0</td>\n",
       "    </tr>\n",
       "    <tr>\n",
       "      <th>11148</th>\n",
       "      <td>24/03/2020</td>\n",
       "      <td>24</td>\n",
       "      <td>3</td>\n",
       "      <td>2020</td>\n",
       "      <td>0</td>\n",
       "      <td>1</td>\n",
       "      <td>Zimbabwe</td>\n",
       "      <td>ZW</td>\n",
       "      <td>ZWE</td>\n",
       "      <td>14439018.0</td>\n",
       "    </tr>\n",
       "    <tr>\n",
       "      <th>11149</th>\n",
       "      <td>23/03/2020</td>\n",
       "      <td>23</td>\n",
       "      <td>3</td>\n",
       "      <td>2020</td>\n",
       "      <td>0</td>\n",
       "      <td>0</td>\n",
       "      <td>Zimbabwe</td>\n",
       "      <td>ZW</td>\n",
       "      <td>ZWE</td>\n",
       "      <td>14439018.0</td>\n",
       "    </tr>\n",
       "    <tr>\n",
       "      <th>11150</th>\n",
       "      <td>22/03/2020</td>\n",
       "      <td>22</td>\n",
       "      <td>3</td>\n",
       "      <td>2020</td>\n",
       "      <td>1</td>\n",
       "      <td>0</td>\n",
       "      <td>Zimbabwe</td>\n",
       "      <td>ZW</td>\n",
       "      <td>ZWE</td>\n",
       "      <td>14439018.0</td>\n",
       "    </tr>\n",
       "    <tr>\n",
       "      <th>11151</th>\n",
       "      <td>21/03/2020</td>\n",
       "      <td>21</td>\n",
       "      <td>3</td>\n",
       "      <td>2020</td>\n",
       "      <td>1</td>\n",
       "      <td>0</td>\n",
       "      <td>Zimbabwe</td>\n",
       "      <td>ZW</td>\n",
       "      <td>ZWE</td>\n",
       "      <td>14439018.0</td>\n",
       "    </tr>\n",
       "  </tbody>\n",
       "</table>\n",
       "</div>"
      ],
      "text/plain": [
       "          dateRep  day  month  year  cases  deaths countriesAndTerritories  \\\n",
       "11147  25/03/2020   25      3  2020      0       0                Zimbabwe   \n",
       "11148  24/03/2020   24      3  2020      0       1                Zimbabwe   \n",
       "11149  23/03/2020   23      3  2020      0       0                Zimbabwe   \n",
       "11150  22/03/2020   22      3  2020      1       0                Zimbabwe   \n",
       "11151  21/03/2020   21      3  2020      1       0                Zimbabwe   \n",
       "\n",
       "      geoId countryterritoryCode  popData2018  \n",
       "11147    ZW                  ZWE   14439018.0  \n",
       "11148    ZW                  ZWE   14439018.0  \n",
       "11149    ZW                  ZWE   14439018.0  \n",
       "11150    ZW                  ZWE   14439018.0  \n",
       "11151    ZW                  ZWE   14439018.0  "
      ]
     },
     "execution_count": 30,
     "metadata": {},
     "output_type": "execute_result"
    }
   ],
   "source": [
    "url=\"https://opendata.ecdc.europa.eu/covid19/casedistribution/csv\"\n",
    "s=requests.get(url).content\n",
    "dataset=pd.read_csv(io.StringIO(s.decode('utf-8')))\n",
    "dataset.tail()"
   ]
  },
  {
   "cell_type": "code",
   "execution_count": 31,
   "metadata": {},
   "outputs": [],
   "source": [
    "dataset.rename(columns = {\n",
    "    \"dateRep\": \"date\",\n",
    "    \"cases\": \"new_cases\",\n",
    "    \"deaths\": \"new_deaths\",\n",
    "    \"countriesAndTerritories\": \"country\"\n",
    "},inplace=True)\n",
    "allTogetherClean = dataset[['date', 'country', 'new_cases', 'new_deaths']]"
   ]
  },
  {
   "cell_type": "code",
   "execution_count": 32,
   "metadata": {},
   "outputs": [
    {
     "data": {
      "text/html": [
       "<div>\n",
       "<style scoped>\n",
       "    .dataframe tbody tr th:only-of-type {\n",
       "        vertical-align: middle;\n",
       "    }\n",
       "\n",
       "    .dataframe tbody tr th {\n",
       "        vertical-align: top;\n",
       "    }\n",
       "\n",
       "    .dataframe thead th {\n",
       "        text-align: right;\n",
       "    }\n",
       "</style>\n",
       "<table border=\"1\" class=\"dataframe\">\n",
       "  <thead>\n",
       "    <tr style=\"text-align: right;\">\n",
       "      <th></th>\n",
       "      <th>date</th>\n",
       "      <th>country</th>\n",
       "      <th>new_cases</th>\n",
       "      <th>new_deaths</th>\n",
       "    </tr>\n",
       "  </thead>\n",
       "  <tbody>\n",
       "    <tr>\n",
       "      <th>11147</th>\n",
       "      <td>25/03/2020</td>\n",
       "      <td>Zimbabwe</td>\n",
       "      <td>0</td>\n",
       "      <td>0</td>\n",
       "    </tr>\n",
       "    <tr>\n",
       "      <th>11148</th>\n",
       "      <td>24/03/2020</td>\n",
       "      <td>Zimbabwe</td>\n",
       "      <td>0</td>\n",
       "      <td>1</td>\n",
       "    </tr>\n",
       "    <tr>\n",
       "      <th>11149</th>\n",
       "      <td>23/03/2020</td>\n",
       "      <td>Zimbabwe</td>\n",
       "      <td>0</td>\n",
       "      <td>0</td>\n",
       "    </tr>\n",
       "    <tr>\n",
       "      <th>11150</th>\n",
       "      <td>22/03/2020</td>\n",
       "      <td>Zimbabwe</td>\n",
       "      <td>1</td>\n",
       "      <td>0</td>\n",
       "    </tr>\n",
       "    <tr>\n",
       "      <th>11151</th>\n",
       "      <td>21/03/2020</td>\n",
       "      <td>Zimbabwe</td>\n",
       "      <td>1</td>\n",
       "      <td>0</td>\n",
       "    </tr>\n",
       "  </tbody>\n",
       "</table>\n",
       "</div>"
      ],
      "text/plain": [
       "             date   country  new_cases  new_deaths\n",
       "11147  25/03/2020  Zimbabwe          0           0\n",
       "11148  24/03/2020  Zimbabwe          0           1\n",
       "11149  23/03/2020  Zimbabwe          0           0\n",
       "11150  22/03/2020  Zimbabwe          1           0\n",
       "11151  21/03/2020  Zimbabwe          1           0"
      ]
     },
     "execution_count": 32,
     "metadata": {},
     "output_type": "execute_result"
    }
   ],
   "source": [
    "## Exclude some countries\n",
    "exclude_coutries = ['Canada','Cases_on_an_international_conveyance_Japan']\n",
    "allTogetherClean = allTogetherClean[~allTogetherClean.country.isin(exclude_coutries)]\n",
    "allTogetherClean.tail()"
   ]
  },
  {
   "cell_type": "code",
   "execution_count": 33,
   "metadata": {},
   "outputs": [],
   "source": [
    "## Remove lower data points\n",
    "threshold = 10\n",
    "list_filtered_countried = allTogetherClean.groupby('country').filter(lambda x: x['new_deaths'].sum()>threshold)['country'].unique()"
   ]
  },
  {
   "cell_type": "code",
   "execution_count": 34,
   "metadata": {},
   "outputs": [
    {
     "data": {
      "text/html": [
       "<div>\n",
       "<style scoped>\n",
       "    .dataframe tbody tr th:only-of-type {\n",
       "        vertical-align: middle;\n",
       "    }\n",
       "\n",
       "    .dataframe tbody tr th {\n",
       "        vertical-align: top;\n",
       "    }\n",
       "\n",
       "    .dataframe thead th {\n",
       "        text-align: right;\n",
       "    }\n",
       "</style>\n",
       "<table border=\"1\" class=\"dataframe\">\n",
       "  <thead>\n",
       "    <tr style=\"text-align: right;\">\n",
       "      <th></th>\n",
       "      <th>date</th>\n",
       "      <th>country</th>\n",
       "      <th>new_cases</th>\n",
       "      <th>new_deaths</th>\n",
       "    </tr>\n",
       "  </thead>\n",
       "  <tbody>\n",
       "    <tr>\n",
       "      <th>6531</th>\n",
       "      <td>04/01/2020</td>\n",
       "      <td>United_States_of_America</td>\n",
       "      <td>0</td>\n",
       "      <td>0</td>\n",
       "    </tr>\n",
       "    <tr>\n",
       "      <th>6532</th>\n",
       "      <td>03/01/2020</td>\n",
       "      <td>United_States_of_America</td>\n",
       "      <td>0</td>\n",
       "      <td>0</td>\n",
       "    </tr>\n",
       "    <tr>\n",
       "      <th>6533</th>\n",
       "      <td>02/01/2020</td>\n",
       "      <td>United_States_of_America</td>\n",
       "      <td>0</td>\n",
       "      <td>0</td>\n",
       "    </tr>\n",
       "    <tr>\n",
       "      <th>6534</th>\n",
       "      <td>01/01/2020</td>\n",
       "      <td>United_States_of_America</td>\n",
       "      <td>0</td>\n",
       "      <td>0</td>\n",
       "    </tr>\n",
       "    <tr>\n",
       "      <th>6535</th>\n",
       "      <td>31/12/2019</td>\n",
       "      <td>United_States_of_America</td>\n",
       "      <td>0</td>\n",
       "      <td>0</td>\n",
       "    </tr>\n",
       "  </tbody>\n",
       "</table>\n",
       "</div>"
      ],
      "text/plain": [
       "            date                   country  new_cases  new_deaths\n",
       "6531  04/01/2020  United_States_of_America          0           0\n",
       "6532  03/01/2020  United_States_of_America          0           0\n",
       "6533  02/01/2020  United_States_of_America          0           0\n",
       "6534  01/01/2020  United_States_of_America          0           0\n",
       "6535  31/12/2019  United_States_of_America          0           0"
      ]
     },
     "execution_count": 34,
     "metadata": {},
     "output_type": "execute_result"
    }
   ],
   "source": [
    "allTogetherClean = allTogetherClean[allTogetherClean.country.isin(list_filtered_countried)].reset_index(drop=True)\n",
    "allTogetherClean.tail()"
   ]
  },
  {
   "cell_type": "markdown",
   "metadata": {},
   "source": [
    "## Calculate UnderReporting"
   ]
  },
  {
   "cell_type": "markdown",
   "metadata": {},
   "source": [
    "$$u_{t}=\\frac{\\sum_{j=0}^{t}c_{t-j}f_{j}}{c_{t}}$$\n",
    "\n",
    "where:  \n",
    "$u_{t}$ = underestimation of the proportion of cases with known outcomes  \n",
    "$c_{t}$ = daily case incidence at time t  \n",
    "$f_{t}$ = proportion of cases with delay of t between confirmation and death"
   ]
  },
  {
   "cell_type": "code",
   "execution_count": 35,
   "metadata": {},
   "outputs": [],
   "source": [
    "def calculate_underestimate(country, delay_func):\n",
    "    df = allTogetherClean[allTogetherClean.country==country].iloc[::-1].reset_index(drop=True)\n",
    "    cumulative_known_t = 0\n",
    "    for ii in range(0,len(df)):\n",
    "        #print(\"ii\",ii)\n",
    "        known_i = 0\n",
    "        for jj in range(0,ii+1):\n",
    "            #print(\"jj\",jj)\n",
    "            known_jj = df['new_cases'].loc[ii-jj]*delay_func(jj)\n",
    "            known_i = known_i + known_jj\n",
    "        cumulative_known_t = cumulative_known_t + known_i\n",
    "        #print(\"-\"*30)\n",
    "    cum_known_t = round(cumulative_known_t)\n",
    "    # naive CFR value\n",
    "    nCFR = df['new_deaths'].sum()/df['new_cases'].sum()\n",
    "    # corrected CFR estimator\n",
    "    cCFR = df['new_deaths'].sum()/cum_known_t\n",
    "    total_deaths = df['new_deaths'].sum()\n",
    "    total_cases = df['new_cases'].sum()\n",
    "    nCFR_UQ, nCFR_LQ =  proportion_confint(total_deaths, total_cases)\n",
    "    cCFR_UQ, cCFR_LQ =  proportion_confint(total_deaths, cum_known_t)\n",
    "    return nCFR, cCFR, total_deaths, cum_known_t, total_cases, round(nCFR_UQ,8), round(nCFR_LQ,8), round(cCFR_UQ,8), round(cCFR_LQ,8)"
   ]
  },
  {
   "cell_type": "code",
   "execution_count": 36,
   "metadata": {},
   "outputs": [
    {
     "data": {
      "text/plain": [
       "(0.05060728744939271,\n",
       " 0.06720430107526881,\n",
       " 25,\n",
       " 372.0,\n",
       " 494,\n",
       " 0.03127808,\n",
       " 0.0699365,\n",
       " 0.04176129,\n",
       " 0.09264731)"
      ]
     },
     "execution_count": 36,
     "metadata": {},
     "output_type": "execute_result"
    }
   ],
   "source": [
    "calculate_underestimate(\"Albania\", hospitalisation_to_death_truncated_low)"
   ]
  },
  {
   "cell_type": "code",
   "execution_count": 37,
   "metadata": {},
   "outputs": [
    {
     "data": {
      "text/plain": [
       "(0.03188775510204082,\n",
       " 0.05868544600938967,\n",
       " 25,\n",
       " 426.0,\n",
       " 784,\n",
       " 0.01958889,\n",
       " 0.04418662,\n",
       " 0.03636639,\n",
       " 0.08100451)"
      ]
     },
     "execution_count": 37,
     "metadata": {},
     "output_type": "execute_result"
    }
   ],
   "source": [
    "calculate_underestimate(\"Afghanistan\", hospitalisation_to_death_truncated_low)"
   ]
  },
  {
   "cell_type": "code",
   "execution_count": 38,
   "metadata": {},
   "outputs": [
    {
     "data": {
      "text/plain": [
       "(0.04481907894736842,\n",
       " 0.0632617527568195,\n",
       " 109,\n",
       " 1723.0,\n",
       " 2432,\n",
       " 0.03659588,\n",
       " 0.05304227,\n",
       " 0.05176738,\n",
       " 0.07475612)"
      ]
     },
     "execution_count": 38,
     "metadata": {},
     "output_type": "execute_result"
    }
   ],
   "source": [
    "calculate_underestimate(\"Argentina\", hospitalisation_to_death_truncated_low)"
   ]
  },
  {
   "cell_type": "code",
   "execution_count": 39,
   "metadata": {},
   "outputs": [
    {
     "data": {
      "text/plain": [
       "(0.06129943502824859,\n",
       " 0.111104,\n",
       " 1736,\n",
       " 15625.0,\n",
       " 28320,\n",
       " 0.05850565,\n",
       " 0.06409322,\n",
       " 0.10617648,\n",
       " 0.11603152)"
      ]
     },
     "execution_count": 39,
     "metadata": {},
     "output_type": "execute_result"
    }
   ],
   "source": [
    "calculate_underestimate(\"Brazil\", hospitalisation_to_death_truncated_low)"
   ]
  },
  {
   "cell_type": "code",
   "execution_count": 40,
   "metadata": {},
   "outputs": [],
   "source": [
    "def return_complete_df(dataframe, delay_func):\n",
    "    all_countries = dataframe['country'].unique()\n",
    "    new_df = pd.DataFrame(columns = [\n",
    "        'country',\n",
    "        'nCFR', \n",
    "        'cCFR', \n",
    "        'total_deaths', \n",
    "        'cum_known_t', \n",
    "        'total_cases',\n",
    "        'nCFR_UQ',\n",
    "        'nCFR_LQ',\n",
    "        'cCFR_UQ',\n",
    "        'cCFR_LQ',\n",
    "        'underreporting_estimate',\n",
    "        'lower',\n",
    "        'upper',\n",
    "        'quantile25',\n",
    "        'quantile75'\n",
    "    ])\n",
    "    \n",
    "    for c in tqdm_notebook(all_countries):\n",
    "        nCFR, cCFR, total_deaths, cum_known_t, total_cases, nCFR_UQ, nCFR_LQ,cCFR_UQ, cCFR_LQ = calculate_underestimate(c,delay_func)\n",
    "        quantile25, quantile75 = proportion_confint(total_deaths, cum_known_t, alpha = 0.5)\n",
    "        new_df = new_df.append({'country':c,\n",
    "                       'nCFR':nCFR,\n",
    "                       'cCFR': cCFR,\n",
    "                       'total_deaths': total_deaths,\n",
    "                       'cum_known_t': int(cum_known_t),\n",
    "                       'total_cases': total_cases,\n",
    "                       'nCFR_UQ': nCFR_UQ,\n",
    "                       'nCFR_LQ': nCFR_LQ,\n",
    "                       'cCFR_UQ': cCFR_UQ,\n",
    "                       'cCFR_LQ': cCFR_LQ,\n",
    "                       'underreporting_estimate': cCFRBaseline / (100*cCFR),\n",
    "                       'lower': cCFREstimateRange[0]/ (100 * cCFR_UQ),\n",
    "                       'upper': cCFREstimateRange[1]/ (100 * cCFR_LQ),\n",
    "                       'quantile25': quantile25,\n",
    "                       'quantile75': quantile75            \n",
    "                      }, ignore_index=True)\n",
    "    return new_df"
   ]
  },
  {
   "cell_type": "code",
   "execution_count": 41,
   "metadata": {},
   "outputs": [
    {
     "data": {
      "application/vnd.jupyter.widget-view+json": {
       "model_id": "223f7875fc25497fb65f0a9b294a48e9",
       "version_major": 2,
       "version_minor": 0
      },
      "text/plain": [
       "HBox(children=(IntProgress(value=0, max=84), HTML(value='')))"
      ]
     },
     "metadata": {},
     "output_type": "display_data"
    },
    {
     "name": "stdout",
     "output_type": "stream",
     "text": [
      "\n"
     ]
    },
    {
     "data": {
      "application/vnd.jupyter.widget-view+json": {
       "model_id": "3b691abde9414455a11712a2951679cf",
       "version_major": 2,
       "version_minor": 0
      },
      "text/plain": [
       "HBox(children=(IntProgress(value=0, max=84), HTML(value='')))"
      ]
     },
     "metadata": {},
     "output_type": "display_data"
    },
    {
     "name": "stdout",
     "output_type": "stream",
     "text": [
      "\n"
     ]
    },
    {
     "data": {
      "application/vnd.jupyter.widget-view+json": {
       "model_id": "85b458e783f24a43a5fcdb06d04a69f2",
       "version_major": 2,
       "version_minor": 0
      },
      "text/plain": [
       "HBox(children=(IntProgress(value=0, max=84), HTML(value='')))"
      ]
     },
     "metadata": {},
     "output_type": "display_data"
    },
    {
     "name": "stdout",
     "output_type": "stream",
     "text": [
      "\n"
     ]
    }
   ],
   "source": [
    "allTogetherLow = return_complete_df(allTogetherClean, hospitalisation_to_death_truncated_low)\n",
    "allTogetherMid = return_complete_df(allTogetherClean, hospitalisation_to_death_truncated_mid)\n",
    "allTogetherHigh = return_complete_df(allTogetherClean, hospitalisation_to_death_truncated_high)"
   ]
  },
  {
   "cell_type": "markdown",
   "metadata": {},
   "source": [
    "## Saving Output"
   ]
  },
  {
   "cell_type": "code",
   "execution_count": 53,
   "metadata": {},
   "outputs": [
    {
     "name": "stdout",
     "output_type": "stream",
     "text": [
      "total 240\r\n",
      "drwxr-xr-x  8 rsilvei  813930708   256B Apr 16 22:14 \u001b[1m\u001b[36m.\u001b[m\u001b[m\r\n",
      "drwxr-xr-x  7 rsilvei  813930708   224B Apr 16 11:36 \u001b[1m\u001b[36m..\u001b[m\u001b[m\r\n",
      "-rw-r--r--  1 rsilvei  813930708    17K Apr 16 11:44 high.csv\r\n",
      "-rw-r--r--  1 rsilvei  813930708    17K Apr 16 22:14 high_2020-04-16-22h.csv\r\n",
      "-rw-r--r--  1 rsilvei  813930708    17K Apr 16 11:44 low.csv\r\n",
      "-rw-r--r--  1 rsilvei  813930708    17K Apr 16 22:14 low_2020-04-16-22h.csv\r\n",
      "-rw-r--r--  1 rsilvei  813930708    17K Apr 16 11:44 mid.csv\r\n",
      "-rw-r--r--  1 rsilvei  813930708    17K Apr 16 22:14 mid_2020-04-16-22h.csv\r\n"
     ]
    }
   ],
   "source": [
    "!ls -lah ../output/"
   ]
  },
  {
   "cell_type": "code",
   "execution_count": 43,
   "metadata": {},
   "outputs": [],
   "source": [
    "date_tag = datetime.now().strftime(\"%Y-%m-%d-%Hh\")"
   ]
  },
  {
   "cell_type": "code",
   "execution_count": 44,
   "metadata": {},
   "outputs": [],
   "source": [
    "allTogetherLow.to_csv(\"../output/low_{}.csv\".format(date_tag))\n",
    "allTogetherMid.to_csv(\"../output/mid_{}.csv\".format(date_tag))\n",
    "allTogetherHigh.to_csv(\"../output/high_{}.csv\".format(date_tag))"
   ]
  },
  {
   "cell_type": "code",
   "execution_count": 54,
   "metadata": {},
   "outputs": [
    {
     "name": "stdout",
     "output_type": "stream",
     "text": [
      "total 240\r\n",
      "drwxr-xr-x  8 rsilvei  813930708   256B Apr 16 22:14 \u001b[1m\u001b[36m.\u001b[m\u001b[m\r\n",
      "drwxr-xr-x  7 rsilvei  813930708   224B Apr 16 11:36 \u001b[1m\u001b[36m..\u001b[m\u001b[m\r\n",
      "-rw-r--r--  1 rsilvei  813930708    17K Apr 16 11:44 high.csv\r\n",
      "-rw-r--r--  1 rsilvei  813930708    17K Apr 16 22:14 high_2020-04-16-22h.csv\r\n",
      "-rw-r--r--  1 rsilvei  813930708    17K Apr 16 11:44 low.csv\r\n",
      "-rw-r--r--  1 rsilvei  813930708    17K Apr 16 22:14 low_2020-04-16-22h.csv\r\n",
      "-rw-r--r--  1 rsilvei  813930708    17K Apr 16 11:44 mid.csv\r\n",
      "-rw-r--r--  1 rsilvei  813930708    17K Apr 16 22:14 mid_2020-04-16-22h.csv\r\n"
     ]
    }
   ],
   "source": [
    "!ls -lah ../output/"
   ]
  },
  {
   "cell_type": "markdown",
   "metadata": {},
   "source": [
    "## Function for Individual Country"
   ]
  },
  {
   "cell_type": "code",
   "execution_count": 46,
   "metadata": {},
   "outputs": [],
   "source": [
    "def underreporting_estimate_country(country):\n",
    "    nCFR_low, cCFR_low, _, _, _, _, _,_, _ = calculate_underestimate(country,hospitalisation_to_death_truncated_low)\n",
    "    nCFR_mid, cCFR_mid, _, _, _, _, _,_, _ = calculate_underestimate(country,hospitalisation_to_death_truncated_mid)\n",
    "    nCFR_high, cCFR_high, total_deaths, cum_known_t, total_cases, _, _,_, _ = calculate_underestimate(country,hospitalisation_to_death_truncated_high)\n",
    "    \n",
    "    underreporting_estimate_low = cCFRBaseline / (100*cCFR_low)\n",
    "    underreporting_estimate_mid = cCFRBaseline / (100*cCFR_mid)\n",
    "    underreporting_estimate_high =  cCFRBaseline / (100*cCFR_high)\n",
    "    print(nCFR_low, nCFR_mid, nCFR_high)\n",
    "    return { 'naive_CFR_': \"{:.2f}%\".format(nCFR_mid*100),\n",
    "             'underreporting_low':   \"{:.2f}%\".format(underreporting_estimate_low*100),\n",
    "             'underreporting_mid':   \"{:.2f}%\".format(underreporting_estimate_mid*100),\n",
    "             'underreporting_high':  \"{:.2f}%\".format(underreporting_estimate_high*100)\n",
    "           }"
   ]
  },
  {
   "cell_type": "code",
   "execution_count": 47,
   "metadata": {},
   "outputs": [
    {
     "name": "stdout",
     "output_type": "stream",
     "text": [
      "0.06129943502824859 0.06129943502824859 0.06129943502824859\n"
     ]
    },
    {
     "data": {
      "text/plain": [
       "{'naive_CFR_': '6.13%',\n",
       " 'underreporting_low': '12.60%',\n",
       " 'underreporting_mid': '10.18%',\n",
       " 'underreporting_high': '7.33%'}"
      ]
     },
     "execution_count": 47,
     "metadata": {},
     "output_type": "execute_result"
    }
   ],
   "source": [
    "underreporting_estimate_country(\"Brazil\")"
   ]
  },
  {
   "cell_type": "code",
   "execution_count": 48,
   "metadata": {},
   "outputs": [
    {
     "name": "stdout",
     "output_type": "stream",
     "text": [
      "0.04843949323394782 0.04843949323394782 0.04843949323394782\n"
     ]
    },
    {
     "data": {
      "text/plain": [
       "{'naive_CFR_': '4.84%',\n",
       " 'underreporting_low': '18.70%',\n",
       " 'underreporting_mid': '15.33%',\n",
       " 'underreporting_high': '11.27%'}"
      ]
     },
     "execution_count": 48,
     "metadata": {},
     "output_type": "execute_result"
    }
   ],
   "source": [
    "underreporting_estimate_country(\"United_States_of_America\")"
   ]
  },
  {
   "cell_type": "code",
   "execution_count": 50,
   "metadata": {},
   "outputs": [
    {
     "name": "stdout",
     "output_type": "stream",
     "text": [
      "0.031914893617021274 0.031914893617021274 0.031914893617021274\n"
     ]
    },
    {
     "data": {
      "text/plain": [
       "{'naive_CFR_': '3.19%',\n",
       " 'underreporting_low': '36.60%',\n",
       " 'underreporting_mid': '32.47%',\n",
       " 'underreporting_high': '26.47%'}"
      ]
     },
     "execution_count": 50,
     "metadata": {},
     "output_type": "execute_result"
    }
   ],
   "source": [
    "underreporting_estimate_country(\"Lebanon\")"
   ]
  },
  {
   "cell_type": "code",
   "execution_count": 51,
   "metadata": {},
   "outputs": [
    {
     "name": "stdout",
     "output_type": "stream",
     "text": [
      "0.027359141433499424 0.027359141433499424 0.027359141433499424\n"
     ]
    },
    {
     "data": {
      "text/plain": [
       "{'naive_CFR_': '2.74%',\n",
       " 'underreporting_low': '39.88%',\n",
       " 'underreporting_mid': '34.10%',\n",
       " 'underreporting_high': '26.51%'}"
      ]
     },
     "execution_count": 51,
     "metadata": {},
     "output_type": "execute_result"
    }
   ],
   "source": [
    "underreporting_estimate_country(\"Germany\")"
   ]
  },
  {
   "cell_type": "code",
   "execution_count": 52,
   "metadata": {},
   "outputs": [
    {
     "name": "stdout",
     "output_type": "stream",
     "text": [
      "0.03694562575941677 0.03694562575941677 0.03694562575941677\n"
     ]
    },
    {
     "data": {
      "text/plain": [
       "{'naive_CFR_': '3.69%',\n",
       " 'underreporting_low': '30.97%',\n",
       " 'underreporting_mid': '26.93%',\n",
       " 'underreporting_high': '21.37%'}"
      ]
     },
     "execution_count": 52,
     "metadata": {},
     "output_type": "execute_result"
    }
   ],
   "source": [
    "underreporting_estimate_country(\"Switzerland\")"
   ]
  },
  {
   "cell_type": "markdown",
   "metadata": {},
   "source": [
    "# Sources\n",
    "1. https://cmmid.github.io/topics/covid19/severity/global_cfr_estimates.html"
   ]
  }
 ],
 "metadata": {
  "kernelspec": {
   "display_name": "Bayesian",
   "language": "python",
   "name": "bayesian"
  },
  "language_info": {
   "codemirror_mode": {
    "name": "ipython",
    "version": 3
   },
   "file_extension": ".py",
   "mimetype": "text/x-python",
   "name": "python",
   "nbconvert_exporter": "python",
   "pygments_lexer": "ipython3",
   "version": "3.6.5"
  }
 },
 "nbformat": 4,
 "nbformat_minor": 2
}
