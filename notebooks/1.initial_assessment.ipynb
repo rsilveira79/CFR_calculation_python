{
 "cells": [
  {
   "cell_type": "code",
   "execution_count": 3,
   "metadata": {},
   "outputs": [],
   "source": [
    "import io\n",
    "import requests\n",
    "import pandas as pd\n",
    "import numpy as np\n",
    "from scipy.stats import lognorm\n",
    "from tqdm import tqdm_notebook\n",
    "from statsmodels.stats.proportion import proportion_confint\n",
    "from datetime import date, datetime"
   ]
  },
  {
   "cell_type": "markdown",
   "metadata": {},
   "source": [
    "## Functions"
   ]
  },
  {
   "cell_type": "code",
   "execution_count": 4,
   "metadata": {},
   "outputs": [],
   "source": [
    "def muTransform(zMedian):\n",
    "    return np.log(zMedian)"
   ]
  },
  {
   "cell_type": "code",
   "execution_count": 5,
   "metadata": {},
   "outputs": [],
   "source": [
    "def sigmaTransform(zMean, mu):\n",
    "    return np.sqrt(2*(np.log(zMean)-mu))"
   ]
  },
  {
   "cell_type": "code",
   "execution_count": 6,
   "metadata": {},
   "outputs": [],
   "source": [
    "def plnorm(x, mu, sigma):\n",
    "    shape  = sigma\n",
    "    loc    = 0\n",
    "    scale  = np.exp(mu)\n",
    "    return lognorm.cdf(x, shape, loc, scale)"
   ]
  },
  {
   "cell_type": "code",
   "execution_count": 7,
   "metadata": {},
   "outputs": [],
   "source": [
    "def hospitalisation_to_death_truncated(x,mu,sigma):\n",
    "    return plnorm(x + 1, mu, sigma) - plnorm(x, mu, sigma)\n",
    "\n",
    "def hospitalisation_to_death_truncated_low(x):\n",
    "    return hospitalisation_to_death_truncated(x,muLow, sigmaLow)\n",
    "\n",
    "def hospitalisation_to_death_truncated_mid(x):\n",
    "    return hospitalisation_to_death_truncated(x,muMid, sigmaMid)\n",
    "\n",
    "def hospitalisation_to_death_truncated_high(x):\n",
    "    return hospitalisation_to_death_truncated(x,muHigh, sigmaHigh)"
   ]
  },
  {
   "cell_type": "markdown",
   "metadata": {},
   "source": [
    "## Parameters"
   ]
  },
  {
   "cell_type": "code",
   "execution_count": 8,
   "metadata": {},
   "outputs": [],
   "source": [
    "# setting the baseline CFR\n",
    "cCFRBaseline = 1.4\n",
    "cCFREstimateRange = (1.2, 1.7)\n",
    "# lower end of the range\n",
    "zmeanLow = 8.7\n",
    "zmedianLow = 6.7\n",
    "# middle of the range\n",
    "zmeanMid = 13\n",
    "zmedianMid = 9.1\n",
    "# upper end of the range\n",
    "zmeanHigh = 20.9\n",
    "zmedianHigh = 13.7"
   ]
  },
  {
   "cell_type": "code",
   "execution_count": 9,
   "metadata": {},
   "outputs": [],
   "source": [
    "muLow=muTransform(zmedianLow)\n",
    "sigmaLow = sigmaTransform(zmeanLow, muLow)"
   ]
  },
  {
   "cell_type": "code",
   "execution_count": 10,
   "metadata": {},
   "outputs": [],
   "source": [
    "muMid = muTransform(zmedianMid)\n",
    "sigmaMid = sigmaTransform(zmeanMid, muMid)"
   ]
  },
  {
   "cell_type": "code",
   "execution_count": 11,
   "metadata": {},
   "outputs": [],
   "source": [
    "muHigh = muTransform(zmedianHigh)\n",
    "sigmaHigh = sigmaTransform(zmeanHigh, muHigh)"
   ]
  },
  {
   "cell_type": "markdown",
   "metadata": {},
   "source": [
    "## Clean Dataset"
   ]
  },
  {
   "cell_type": "code",
   "execution_count": 12,
   "metadata": {},
   "outputs": [
    {
     "data": {
      "text/html": [
       "<div>\n",
       "<style scoped>\n",
       "    .dataframe tbody tr th:only-of-type {\n",
       "        vertical-align: middle;\n",
       "    }\n",
       "\n",
       "    .dataframe tbody tr th {\n",
       "        vertical-align: top;\n",
       "    }\n",
       "\n",
       "    .dataframe thead th {\n",
       "        text-align: right;\n",
       "    }\n",
       "</style>\n",
       "<table border=\"1\" class=\"dataframe\">\n",
       "  <thead>\n",
       "    <tr style=\"text-align: right;\">\n",
       "      <th></th>\n",
       "      <th>dateRep</th>\n",
       "      <th>day</th>\n",
       "      <th>month</th>\n",
       "      <th>year</th>\n",
       "      <th>cases</th>\n",
       "      <th>deaths</th>\n",
       "      <th>countriesAndTerritories</th>\n",
       "      <th>geoId</th>\n",
       "      <th>countryterritoryCode</th>\n",
       "      <th>popData2018</th>\n",
       "      <th>continentExp</th>\n",
       "    </tr>\n",
       "  </thead>\n",
       "  <tbody>\n",
       "    <tr>\n",
       "      <th>13824</th>\n",
       "      <td>25/03/2020</td>\n",
       "      <td>25</td>\n",
       "      <td>3</td>\n",
       "      <td>2020</td>\n",
       "      <td>0</td>\n",
       "      <td>0</td>\n",
       "      <td>Zimbabwe</td>\n",
       "      <td>ZW</td>\n",
       "      <td>ZWE</td>\n",
       "      <td>14439018.0</td>\n",
       "      <td>Africa</td>\n",
       "    </tr>\n",
       "    <tr>\n",
       "      <th>13825</th>\n",
       "      <td>24/03/2020</td>\n",
       "      <td>24</td>\n",
       "      <td>3</td>\n",
       "      <td>2020</td>\n",
       "      <td>0</td>\n",
       "      <td>1</td>\n",
       "      <td>Zimbabwe</td>\n",
       "      <td>ZW</td>\n",
       "      <td>ZWE</td>\n",
       "      <td>14439018.0</td>\n",
       "      <td>Africa</td>\n",
       "    </tr>\n",
       "    <tr>\n",
       "      <th>13826</th>\n",
       "      <td>23/03/2020</td>\n",
       "      <td>23</td>\n",
       "      <td>3</td>\n",
       "      <td>2020</td>\n",
       "      <td>0</td>\n",
       "      <td>0</td>\n",
       "      <td>Zimbabwe</td>\n",
       "      <td>ZW</td>\n",
       "      <td>ZWE</td>\n",
       "      <td>14439018.0</td>\n",
       "      <td>Africa</td>\n",
       "    </tr>\n",
       "    <tr>\n",
       "      <th>13827</th>\n",
       "      <td>22/03/2020</td>\n",
       "      <td>22</td>\n",
       "      <td>3</td>\n",
       "      <td>2020</td>\n",
       "      <td>1</td>\n",
       "      <td>0</td>\n",
       "      <td>Zimbabwe</td>\n",
       "      <td>ZW</td>\n",
       "      <td>ZWE</td>\n",
       "      <td>14439018.0</td>\n",
       "      <td>Africa</td>\n",
       "    </tr>\n",
       "    <tr>\n",
       "      <th>13828</th>\n",
       "      <td>21/03/2020</td>\n",
       "      <td>21</td>\n",
       "      <td>3</td>\n",
       "      <td>2020</td>\n",
       "      <td>1</td>\n",
       "      <td>0</td>\n",
       "      <td>Zimbabwe</td>\n",
       "      <td>ZW</td>\n",
       "      <td>ZWE</td>\n",
       "      <td>14439018.0</td>\n",
       "      <td>Africa</td>\n",
       "    </tr>\n",
       "  </tbody>\n",
       "</table>\n",
       "</div>"
      ],
      "text/plain": [
       "          dateRep  day  month  year  cases  deaths countriesAndTerritories  \\\n",
       "13824  25/03/2020   25      3  2020      0       0                Zimbabwe   \n",
       "13825  24/03/2020   24      3  2020      0       1                Zimbabwe   \n",
       "13826  23/03/2020   23      3  2020      0       0                Zimbabwe   \n",
       "13827  22/03/2020   22      3  2020      1       0                Zimbabwe   \n",
       "13828  21/03/2020   21      3  2020      1       0                Zimbabwe   \n",
       "\n",
       "      geoId countryterritoryCode  popData2018 continentExp  \n",
       "13824    ZW                  ZWE   14439018.0       Africa  \n",
       "13825    ZW                  ZWE   14439018.0       Africa  \n",
       "13826    ZW                  ZWE   14439018.0       Africa  \n",
       "13827    ZW                  ZWE   14439018.0       Africa  \n",
       "13828    ZW                  ZWE   14439018.0       Africa  "
      ]
     },
     "execution_count": 12,
     "metadata": {},
     "output_type": "execute_result"
    }
   ],
   "source": [
    "url=\"https://opendata.ecdc.europa.eu/covid19/casedistribution/csv\"\n",
    "s=requests.get(url).content\n",
    "dataset=pd.read_csv(io.StringIO(s.decode('utf-8')))\n",
    "dataset.tail()"
   ]
  },
  {
   "cell_type": "code",
   "execution_count": 13,
   "metadata": {},
   "outputs": [],
   "source": [
    "dataset.rename(columns = {\n",
    "    \"dateRep\": \"date\",\n",
    "    \"cases\": \"new_cases\",\n",
    "    \"deaths\": \"new_deaths\",\n",
    "    \"countriesAndTerritories\": \"country\"\n",
    "},inplace=True)\n",
    "allTogetherClean = dataset[['date', 'country', 'new_cases', 'new_deaths']]"
   ]
  },
  {
   "cell_type": "code",
   "execution_count": 14,
   "metadata": {},
   "outputs": [
    {
     "data": {
      "text/html": [
       "<div>\n",
       "<style scoped>\n",
       "    .dataframe tbody tr th:only-of-type {\n",
       "        vertical-align: middle;\n",
       "    }\n",
       "\n",
       "    .dataframe tbody tr th {\n",
       "        vertical-align: top;\n",
       "    }\n",
       "\n",
       "    .dataframe thead th {\n",
       "        text-align: right;\n",
       "    }\n",
       "</style>\n",
       "<table border=\"1\" class=\"dataframe\">\n",
       "  <thead>\n",
       "    <tr style=\"text-align: right;\">\n",
       "      <th></th>\n",
       "      <th>date</th>\n",
       "      <th>country</th>\n",
       "      <th>new_cases</th>\n",
       "      <th>new_deaths</th>\n",
       "    </tr>\n",
       "  </thead>\n",
       "  <tbody>\n",
       "    <tr>\n",
       "      <th>13824</th>\n",
       "      <td>25/03/2020</td>\n",
       "      <td>Zimbabwe</td>\n",
       "      <td>0</td>\n",
       "      <td>0</td>\n",
       "    </tr>\n",
       "    <tr>\n",
       "      <th>13825</th>\n",
       "      <td>24/03/2020</td>\n",
       "      <td>Zimbabwe</td>\n",
       "      <td>0</td>\n",
       "      <td>1</td>\n",
       "    </tr>\n",
       "    <tr>\n",
       "      <th>13826</th>\n",
       "      <td>23/03/2020</td>\n",
       "      <td>Zimbabwe</td>\n",
       "      <td>0</td>\n",
       "      <td>0</td>\n",
       "    </tr>\n",
       "    <tr>\n",
       "      <th>13827</th>\n",
       "      <td>22/03/2020</td>\n",
       "      <td>Zimbabwe</td>\n",
       "      <td>1</td>\n",
       "      <td>0</td>\n",
       "    </tr>\n",
       "    <tr>\n",
       "      <th>13828</th>\n",
       "      <td>21/03/2020</td>\n",
       "      <td>Zimbabwe</td>\n",
       "      <td>1</td>\n",
       "      <td>0</td>\n",
       "    </tr>\n",
       "  </tbody>\n",
       "</table>\n",
       "</div>"
      ],
      "text/plain": [
       "             date   country  new_cases  new_deaths\n",
       "13824  25/03/2020  Zimbabwe          0           0\n",
       "13825  24/03/2020  Zimbabwe          0           1\n",
       "13826  23/03/2020  Zimbabwe          0           0\n",
       "13827  22/03/2020  Zimbabwe          1           0\n",
       "13828  21/03/2020  Zimbabwe          1           0"
      ]
     },
     "execution_count": 14,
     "metadata": {},
     "output_type": "execute_result"
    }
   ],
   "source": [
    "## Exclude some countries\n",
    "exclude_coutries = ['Canada','Cases_on_an_international_conveyance_Japan']\n",
    "allTogetherClean = allTogetherClean[~allTogetherClean.country.isin(exclude_coutries)]\n",
    "allTogetherClean.tail()"
   ]
  },
  {
   "cell_type": "code",
   "execution_count": 15,
   "metadata": {},
   "outputs": [],
   "source": [
    "## Remove lower data points\n",
    "threshold = 10\n",
    "list_filtered_countried = allTogetherClean.groupby('country').filter(lambda x: x['new_deaths'].sum()>threshold)['country'].unique()"
   ]
  },
  {
   "cell_type": "code",
   "execution_count": 16,
   "metadata": {},
   "outputs": [
    {
     "data": {
      "text/html": [
       "<div>\n",
       "<style scoped>\n",
       "    .dataframe tbody tr th:only-of-type {\n",
       "        vertical-align: middle;\n",
       "    }\n",
       "\n",
       "    .dataframe tbody tr th {\n",
       "        vertical-align: top;\n",
       "    }\n",
       "\n",
       "    .dataframe thead th {\n",
       "        text-align: right;\n",
       "    }\n",
       "</style>\n",
       "<table border=\"1\" class=\"dataframe\">\n",
       "  <thead>\n",
       "    <tr style=\"text-align: right;\">\n",
       "      <th></th>\n",
       "      <th>date</th>\n",
       "      <th>country</th>\n",
       "      <th>new_cases</th>\n",
       "      <th>new_deaths</th>\n",
       "    </tr>\n",
       "  </thead>\n",
       "  <tbody>\n",
       "    <tr>\n",
       "      <th>8702</th>\n",
       "      <td>19/03/2020</td>\n",
       "      <td>Uruguay</td>\n",
       "      <td>29</td>\n",
       "      <td>0</td>\n",
       "    </tr>\n",
       "    <tr>\n",
       "      <th>8703</th>\n",
       "      <td>18/03/2020</td>\n",
       "      <td>Uruguay</td>\n",
       "      <td>21</td>\n",
       "      <td>0</td>\n",
       "    </tr>\n",
       "    <tr>\n",
       "      <th>8704</th>\n",
       "      <td>17/03/2020</td>\n",
       "      <td>Uruguay</td>\n",
       "      <td>21</td>\n",
       "      <td>0</td>\n",
       "    </tr>\n",
       "    <tr>\n",
       "      <th>8705</th>\n",
       "      <td>16/03/2020</td>\n",
       "      <td>Uruguay</td>\n",
       "      <td>2</td>\n",
       "      <td>0</td>\n",
       "    </tr>\n",
       "    <tr>\n",
       "      <th>8706</th>\n",
       "      <td>15/03/2020</td>\n",
       "      <td>Uruguay</td>\n",
       "      <td>6</td>\n",
       "      <td>0</td>\n",
       "    </tr>\n",
       "  </tbody>\n",
       "</table>\n",
       "</div>"
      ],
      "text/plain": [
       "            date  country  new_cases  new_deaths\n",
       "8702  19/03/2020  Uruguay         29           0\n",
       "8703  18/03/2020  Uruguay         21           0\n",
       "8704  17/03/2020  Uruguay         21           0\n",
       "8705  16/03/2020  Uruguay          2           0\n",
       "8706  15/03/2020  Uruguay          6           0"
      ]
     },
     "execution_count": 16,
     "metadata": {},
     "output_type": "execute_result"
    }
   ],
   "source": [
    "allTogetherClean = allTogetherClean[allTogetherClean.country.isin(list_filtered_countried)].reset_index(drop=True)\n",
    "allTogetherClean.tail()"
   ]
  },
  {
   "cell_type": "markdown",
   "metadata": {},
   "source": [
    "## Calculate UnderReporting"
   ]
  },
  {
   "cell_type": "markdown",
   "metadata": {},
   "source": [
    "$$u_{t}=\\frac{\\sum_{j=0}^{t}c_{t-j}f_{j}}{c_{t}}$$\n",
    "\n",
    "where:  \n",
    "$u_{t}$ = underestimation of the proportion of cases with known outcomes  \n",
    "$c_{t}$ = daily case incidence at time t  \n",
    "$f_{t}$ = proportion of cases with delay of t between confirmation and death"
   ]
  },
  {
   "cell_type": "code",
   "execution_count": 23,
   "metadata": {},
   "outputs": [],
   "source": [
    "def calculate_underestimate(country, delay_func):\n",
    "    df = allTogetherClean[allTogetherClean.country==country].iloc[::-1].reset_index(drop=True)\n",
    "    cumulative_known_t = 0\n",
    "    for ii in range(0,len(df)):\n",
    "        known_i = 0\n",
    "        for jj in range(0,ii+1):\n",
    "            known_jj = df['new_cases'].loc[ii-jj]*delay_func(jj)\n",
    "            known_i = known_i + known_jj\n",
    "        cumulative_known_t = cumulative_known_t + known_i\n",
    "    cum_known_t = round(cumulative_known_t)\n",
    "    nCFR = df['new_deaths'].sum()/df['new_cases'].sum()\n",
    "    cCFR = df['new_deaths'].sum()/cum_known_t\n",
    "    total_deaths = df['new_deaths'].sum()\n",
    "    total_cases = df['new_cases'].sum()\n",
    "    nCFR_UQ, nCFR_LQ =  proportion_confint(total_deaths, total_cases)\n",
    "    cCFR_UQ, cCFR_LQ =  proportion_confint(total_deaths, cum_known_t)\n",
    "    quantile25, quantile75 = proportion_confint(total_deaths, cum_known_t, alpha = 0.5)\n",
    "    row = {\n",
    "        'country': country,\n",
    "        'nCFR': nCFR, \n",
    "        'cCFR':cCFR, \n",
    "        'total_deaths':total_deaths, \n",
    "        'cum_known_t':cum_known_t, \n",
    "        'total_cases':total_cases,\n",
    "        'nCFR_UQ':round(nCFR_UQ,8),\n",
    "        'nCFR_LQ':round(nCFR_LQ,8),\n",
    "        'cCFR_UQ':round(cCFR_UQ,8),\n",
    "        'cCFR_LQ':round(cCFR_LQ,8),\n",
    "        'underreporting_estimate':cCFRBaseline / (100*cCFR),\n",
    "        'lower':cCFREstimateRange[0]/ (100 * cCFR_UQ),\n",
    "        'upper':cCFREstimateRange[1]/ (100 * cCFR_LQ),\n",
    "        'quantile25':quantile25,\n",
    "        'quantile75':quantile75\n",
    "    }\n",
    "    return row"
   ]
  },
  {
   "cell_type": "code",
   "execution_count": 24,
   "metadata": {},
   "outputs": [
    {
     "data": {
      "text/plain": [
       "{'country': 'Afghanistan',\n",
       " 'nCFR': 0.03284072249589491,\n",
       " 'cCFR': 0.05410279531109107,\n",
       " 'total_deaths': 60,\n",
       " 'cum_known_t': 1109.0,\n",
       " 'total_cases': 1827,\n",
       " 'nCFR_UQ': 0.02466861,\n",
       " 'nCFR_LQ': 0.04101283,\n",
       " 'cCFR_UQ': 0.04078862,\n",
       " 'cCFR_LQ': 0.06741697,\n",
       " 'underreporting_estimate': 0.25876666666666664,\n",
       " 'lower': 0.2941996769490299,\n",
       " 'upper': 0.25216204241058154,\n",
       " 'quantile25': 0.049520939643496686,\n",
       " 'quantile75': 0.05868465097868546}"
      ]
     },
     "execution_count": 24,
     "metadata": {},
     "output_type": "execute_result"
    }
   ],
   "source": [
    "calculate_underestimate(\"Afghanistan\", hospitalisation_to_death_truncated_low)"
   ]
  },
  {
   "cell_type": "code",
   "execution_count": 25,
   "metadata": {},
   "outputs": [
    {
     "data": {
      "text/plain": [
       "{'country': 'Argentina',\n",
       " 'nCFR': 0.05031599416626155,\n",
       " 'cCFR': 0.06742671009771987,\n",
       " 'total_deaths': 207,\n",
       " 'cum_known_t': 3070.0,\n",
       " 'total_cases': 4114,\n",
       " 'nCFR_UQ': 0.04363627,\n",
       " 'nCFR_LQ': 0.05699572,\n",
       " 'cCFR_UQ': 0.05855645,\n",
       " 'cCFR_LQ': 0.07629697,\n",
       " 'underreporting_estimate': 0.20763285024154587,\n",
       " 'lower': 0.20493045742182062,\n",
       " 'upper': 0.22281356475452455,\n",
       " 'quantile25': 0.06437415411225512,\n",
       " 'quantile75': 0.07047926608318462}"
      ]
     },
     "execution_count": 25,
     "metadata": {},
     "output_type": "execute_result"
    }
   ],
   "source": [
    "calculate_underestimate(\"Argentina\", hospitalisation_to_death_truncated_low)"
   ]
  },
  {
   "cell_type": "code",
   "execution_count": 26,
   "metadata": {},
   "outputs": [
    {
     "data": {
      "text/plain": [
       "{'country': 'Brazil',\n",
       " 'nCFR': 0.06979105806415714,\n",
       " 'cCFR': 0.11548731642189586,\n",
       " 'total_deaths': 5017,\n",
       " 'cum_known_t': 43442.0,\n",
       " 'total_cases': 71886,\n",
       " 'nCFR_UQ': 0.06792847,\n",
       " 'nCFR_LQ': 0.07165364,\n",
       " 'cCFR_UQ': 0.11248185,\n",
       " 'cCFR_LQ': 0.11849279,\n",
       " 'underreporting_estimate': 0.12122543352601156,\n",
       " 'lower': 0.10668388149920366,\n",
       " 'upper': 0.1434686494229578,\n",
       " 'quantile25': 0.11445303285127988,\n",
       " 'quantile75': 0.11652159999251184}"
      ]
     },
     "execution_count": 26,
     "metadata": {},
     "output_type": "execute_result"
    }
   ],
   "source": [
    "calculate_underestimate(\"Brazil\", hospitalisation_to_death_truncated_low)"
   ]
  },
  {
   "cell_type": "code",
   "execution_count": 27,
   "metadata": {},
   "outputs": [],
   "source": [
    "def return_complete_df(delay_func):\n",
    "    all_countries = allTogetherClean['country'].unique()\n",
    "    rows_countries = [calculate_underestimate(c,delay_func) for c in tqdm_notebook(all_countries)]\n",
    "    new_df = pd.DataFrame(\n",
    "        data =rows_countries,\n",
    "        columns = [\n",
    "        'country',\n",
    "        'nCFR', \n",
    "        'cCFR', \n",
    "        'total_deaths', \n",
    "        'cum_known_t', \n",
    "        'total_cases',\n",
    "        'nCFR_UQ',\n",
    "        'nCFR_LQ',\n",
    "        'cCFR_UQ',\n",
    "        'cCFR_LQ',\n",
    "        'underreporting_estimate',\n",
    "        'lower',\n",
    "        'upper',\n",
    "        'quantile25',\n",
    "        'quantile75'\n",
    "    ])\n",
    "    return new_df"
   ]
  },
  {
   "cell_type": "code",
   "execution_count": 28,
   "metadata": {},
   "outputs": [
    {
     "data": {
      "application/vnd.jupyter.widget-view+json": {
       "model_id": "adc3918f3284478f8962a60753b3626f",
       "version_major": 2,
       "version_minor": 0
      },
      "text/plain": [
       "HBox(children=(IntProgress(value=0, max=103), HTML(value='')))"
      ]
     },
     "metadata": {},
     "output_type": "display_data"
    },
    {
     "name": "stdout",
     "output_type": "stream",
     "text": [
      "\n"
     ]
    },
    {
     "data": {
      "application/vnd.jupyter.widget-view+json": {
       "model_id": "ddba74f59574429ebe574f63de364277",
       "version_major": 2,
       "version_minor": 0
      },
      "text/plain": [
       "HBox(children=(IntProgress(value=0, max=103), HTML(value='')))"
      ]
     },
     "metadata": {},
     "output_type": "display_data"
    },
    {
     "name": "stdout",
     "output_type": "stream",
     "text": [
      "\n"
     ]
    },
    {
     "data": {
      "application/vnd.jupyter.widget-view+json": {
       "model_id": "a880405bcc4f4d14985f1515f662f613",
       "version_major": 2,
       "version_minor": 0
      },
      "text/plain": [
       "HBox(children=(IntProgress(value=0, max=103), HTML(value='')))"
      ]
     },
     "metadata": {},
     "output_type": "display_data"
    },
    {
     "name": "stdout",
     "output_type": "stream",
     "text": [
      "\n"
     ]
    }
   ],
   "source": [
    "allTogetherLow = return_complete_df(hospitalisation_to_death_truncated_low)\n",
    "allTogetherMid = return_complete_df(hospitalisation_to_death_truncated_mid)\n",
    "allTogetherHigh = return_complete_df(hospitalisation_to_death_truncated_high)"
   ]
  },
  {
   "cell_type": "code",
   "execution_count": 29,
   "metadata": {},
   "outputs": [
    {
     "data": {
      "text/html": [
       "<div>\n",
       "<style scoped>\n",
       "    .dataframe tbody tr th:only-of-type {\n",
       "        vertical-align: middle;\n",
       "    }\n",
       "\n",
       "    .dataframe tbody tr th {\n",
       "        vertical-align: top;\n",
       "    }\n",
       "\n",
       "    .dataframe thead th {\n",
       "        text-align: right;\n",
       "    }\n",
       "</style>\n",
       "<table border=\"1\" class=\"dataframe\">\n",
       "  <thead>\n",
       "    <tr style=\"text-align: right;\">\n",
       "      <th></th>\n",
       "      <th>country</th>\n",
       "      <th>nCFR</th>\n",
       "      <th>cCFR</th>\n",
       "      <th>total_deaths</th>\n",
       "      <th>cum_known_t</th>\n",
       "      <th>total_cases</th>\n",
       "      <th>nCFR_UQ</th>\n",
       "      <th>nCFR_LQ</th>\n",
       "      <th>cCFR_UQ</th>\n",
       "      <th>cCFR_LQ</th>\n",
       "      <th>underreporting_estimate</th>\n",
       "      <th>lower</th>\n",
       "      <th>upper</th>\n",
       "      <th>quantile25</th>\n",
       "      <th>quantile75</th>\n",
       "    </tr>\n",
       "  </thead>\n",
       "  <tbody>\n",
       "    <tr>\n",
       "      <th>98</th>\n",
       "      <td>Ukraine</td>\n",
       "      <td>0.025399</td>\n",
       "      <td>0.037210</td>\n",
       "      <td>239</td>\n",
       "      <td>6423.0</td>\n",
       "      <td>9410</td>\n",
       "      <td>0.022220</td>\n",
       "      <td>0.028577</td>\n",
       "      <td>0.032581</td>\n",
       "      <td>0.041839</td>\n",
       "      <td>0.376243</td>\n",
       "      <td>0.368311</td>\n",
       "      <td>0.406320</td>\n",
       "      <td>0.035617</td>\n",
       "      <td>0.038803</td>\n",
       "    </tr>\n",
       "    <tr>\n",
       "      <th>99</th>\n",
       "      <td>United_Arab_Emirates</td>\n",
       "      <td>0.007821</td>\n",
       "      <td>0.011769</td>\n",
       "      <td>89</td>\n",
       "      <td>7562.0</td>\n",
       "      <td>11380</td>\n",
       "      <td>0.006202</td>\n",
       "      <td>0.009439</td>\n",
       "      <td>0.009339</td>\n",
       "      <td>0.014200</td>\n",
       "      <td>1.189528</td>\n",
       "      <td>1.284982</td>\n",
       "      <td>1.197175</td>\n",
       "      <td>0.010933</td>\n",
       "      <td>0.012606</td>\n",
       "    </tr>\n",
       "    <tr>\n",
       "      <th>100</th>\n",
       "      <td>United_Kingdom</td>\n",
       "      <td>0.134525</td>\n",
       "      <td>0.175839</td>\n",
       "      <td>21678</td>\n",
       "      <td>123283.0</td>\n",
       "      <td>161145</td>\n",
       "      <td>0.132859</td>\n",
       "      <td>0.136191</td>\n",
       "      <td>0.173714</td>\n",
       "      <td>0.177964</td>\n",
       "      <td>0.079618</td>\n",
       "      <td>0.069079</td>\n",
       "      <td>0.095525</td>\n",
       "      <td>0.175108</td>\n",
       "      <td>0.176571</td>\n",
       "    </tr>\n",
       "    <tr>\n",
       "      <th>101</th>\n",
       "      <td>United_States_of_America</td>\n",
       "      <td>0.057630</td>\n",
       "      <td>0.074387</td>\n",
       "      <td>58355</td>\n",
       "      <td>784474.0</td>\n",
       "      <td>1012583</td>\n",
       "      <td>0.057176</td>\n",
       "      <td>0.058084</td>\n",
       "      <td>0.073807</td>\n",
       "      <td>0.074968</td>\n",
       "      <td>0.188204</td>\n",
       "      <td>0.162587</td>\n",
       "      <td>0.226763</td>\n",
       "      <td>0.074188</td>\n",
       "      <td>0.074587</td>\n",
       "    </tr>\n",
       "    <tr>\n",
       "      <th>102</th>\n",
       "      <td>Uruguay</td>\n",
       "      <td>0.024000</td>\n",
       "      <td>0.028090</td>\n",
       "      <td>15</td>\n",
       "      <td>534.0</td>\n",
       "      <td>625</td>\n",
       "      <td>0.012001</td>\n",
       "      <td>0.035999</td>\n",
       "      <td>0.014076</td>\n",
       "      <td>0.042104</td>\n",
       "      <td>0.498400</td>\n",
       "      <td>0.852528</td>\n",
       "      <td>0.403762</td>\n",
       "      <td>0.023267</td>\n",
       "      <td>0.032913</td>\n",
       "    </tr>\n",
       "  </tbody>\n",
       "</table>\n",
       "</div>"
      ],
      "text/plain": [
       "                      country      nCFR      cCFR  total_deaths  cum_known_t  \\\n",
       "98                    Ukraine  0.025399  0.037210           239       6423.0   \n",
       "99       United_Arab_Emirates  0.007821  0.011769            89       7562.0   \n",
       "100            United_Kingdom  0.134525  0.175839         21678     123283.0   \n",
       "101  United_States_of_America  0.057630  0.074387         58355     784474.0   \n",
       "102                   Uruguay  0.024000  0.028090            15        534.0   \n",
       "\n",
       "     total_cases   nCFR_UQ   nCFR_LQ   cCFR_UQ   cCFR_LQ  \\\n",
       "98          9410  0.022220  0.028577  0.032581  0.041839   \n",
       "99         11380  0.006202  0.009439  0.009339  0.014200   \n",
       "100       161145  0.132859  0.136191  0.173714  0.177964   \n",
       "101      1012583  0.057176  0.058084  0.073807  0.074968   \n",
       "102          625  0.012001  0.035999  0.014076  0.042104   \n",
       "\n",
       "     underreporting_estimate     lower     upper  quantile25  quantile75  \n",
       "98                  0.376243  0.368311  0.406320    0.035617    0.038803  \n",
       "99                  1.189528  1.284982  1.197175    0.010933    0.012606  \n",
       "100                 0.079618  0.069079  0.095525    0.175108    0.176571  \n",
       "101                 0.188204  0.162587  0.226763    0.074188    0.074587  \n",
       "102                 0.498400  0.852528  0.403762    0.023267    0.032913  "
      ]
     },
     "execution_count": 29,
     "metadata": {},
     "output_type": "execute_result"
    }
   ],
   "source": [
    "allTogetherLow.tail()"
   ]
  },
  {
   "cell_type": "code",
   "execution_count": 32,
   "metadata": {},
   "outputs": [
    {
     "data": {
      "text/html": [
       "<div>\n",
       "<style scoped>\n",
       "    .dataframe tbody tr th:only-of-type {\n",
       "        vertical-align: middle;\n",
       "    }\n",
       "\n",
       "    .dataframe tbody tr th {\n",
       "        vertical-align: top;\n",
       "    }\n",
       "\n",
       "    .dataframe thead th {\n",
       "        text-align: right;\n",
       "    }\n",
       "</style>\n",
       "<table border=\"1\" class=\"dataframe\">\n",
       "  <thead>\n",
       "    <tr style=\"text-align: right;\">\n",
       "      <th></th>\n",
       "      <th>country</th>\n",
       "      <th>nCFR</th>\n",
       "      <th>cCFR</th>\n",
       "      <th>total_deaths</th>\n",
       "      <th>cum_known_t</th>\n",
       "      <th>total_cases</th>\n",
       "      <th>nCFR_UQ</th>\n",
       "      <th>nCFR_LQ</th>\n",
       "      <th>cCFR_UQ</th>\n",
       "      <th>cCFR_LQ</th>\n",
       "      <th>underreporting_estimate</th>\n",
       "      <th>lower</th>\n",
       "      <th>upper</th>\n",
       "      <th>quantile25</th>\n",
       "      <th>quantile75</th>\n",
       "    </tr>\n",
       "  </thead>\n",
       "  <tbody>\n",
       "    <tr>\n",
       "      <th>15</th>\n",
       "      <td>Brazil</td>\n",
       "      <td>0.069791</td>\n",
       "      <td>0.137709</td>\n",
       "      <td>5017</td>\n",
       "      <td>36432.0</td>\n",
       "      <td>71886</td>\n",
       "      <td>0.067928</td>\n",
       "      <td>0.071654</td>\n",
       "      <td>0.13417</td>\n",
       "      <td>0.141247</td>\n",
       "      <td>0.101664</td>\n",
       "      <td>0.089439</td>\n",
       "      <td>0.120356</td>\n",
       "      <td>0.136491</td>\n",
       "      <td>0.138926</td>\n",
       "    </tr>\n",
       "  </tbody>\n",
       "</table>\n",
       "</div>"
      ],
      "text/plain": [
       "   country      nCFR      cCFR  total_deaths  cum_known_t  total_cases  \\\n",
       "15  Brazil  0.069791  0.137709          5017      36432.0        71886   \n",
       "\n",
       "     nCFR_UQ   nCFR_LQ  cCFR_UQ   cCFR_LQ  underreporting_estimate     lower  \\\n",
       "15  0.067928  0.071654  0.13417  0.141247                 0.101664  0.089439   \n",
       "\n",
       "       upper  quantile25  quantile75  \n",
       "15  0.120356    0.136491    0.138926  "
      ]
     },
     "execution_count": 32,
     "metadata": {},
     "output_type": "execute_result"
    }
   ],
   "source": [
    "allTogetherMid[allTogetherMid.country == 'Brazil']"
   ]
  },
  {
   "cell_type": "code",
   "execution_count": 33,
   "metadata": {},
   "outputs": [
    {
     "data": {
      "text/html": [
       "<div>\n",
       "<style scoped>\n",
       "    .dataframe tbody tr th:only-of-type {\n",
       "        vertical-align: middle;\n",
       "    }\n",
       "\n",
       "    .dataframe tbody tr th {\n",
       "        vertical-align: top;\n",
       "    }\n",
       "\n",
       "    .dataframe thead th {\n",
       "        text-align: right;\n",
       "    }\n",
       "</style>\n",
       "<table border=\"1\" class=\"dataframe\">\n",
       "  <thead>\n",
       "    <tr style=\"text-align: right;\">\n",
       "      <th></th>\n",
       "      <th>country</th>\n",
       "      <th>nCFR</th>\n",
       "      <th>cCFR</th>\n",
       "      <th>total_deaths</th>\n",
       "      <th>cum_known_t</th>\n",
       "      <th>total_cases</th>\n",
       "      <th>nCFR_UQ</th>\n",
       "      <th>nCFR_LQ</th>\n",
       "      <th>cCFR_UQ</th>\n",
       "      <th>cCFR_LQ</th>\n",
       "      <th>underreporting_estimate</th>\n",
       "      <th>lower</th>\n",
       "      <th>upper</th>\n",
       "      <th>quantile25</th>\n",
       "      <th>quantile75</th>\n",
       "    </tr>\n",
       "  </thead>\n",
       "  <tbody>\n",
       "    <tr>\n",
       "      <th>101</th>\n",
       "      <td>United_States_of_America</td>\n",
       "      <td>0.05763</td>\n",
       "      <td>0.085227</td>\n",
       "      <td>58355</td>\n",
       "      <td>684704.0</td>\n",
       "      <td>1012583</td>\n",
       "      <td>0.057176</td>\n",
       "      <td>0.058084</td>\n",
       "      <td>0.084565</td>\n",
       "      <td>0.085888</td>\n",
       "      <td>0.164268</td>\n",
       "      <td>0.141902</td>\n",
       "      <td>0.197932</td>\n",
       "      <td>0.084999</td>\n",
       "      <td>0.085454</td>\n",
       "    </tr>\n",
       "  </tbody>\n",
       "</table>\n",
       "</div>"
      ],
      "text/plain": [
       "                      country     nCFR      cCFR  total_deaths  cum_known_t  \\\n",
       "101  United_States_of_America  0.05763  0.085227         58355     684704.0   \n",
       "\n",
       "     total_cases   nCFR_UQ   nCFR_LQ   cCFR_UQ   cCFR_LQ  \\\n",
       "101      1012583  0.057176  0.058084  0.084565  0.085888   \n",
       "\n",
       "     underreporting_estimate     lower     upper  quantile25  quantile75  \n",
       "101                 0.164268  0.141902  0.197932    0.084999    0.085454  "
      ]
     },
     "execution_count": 33,
     "metadata": {},
     "output_type": "execute_result"
    }
   ],
   "source": [
    "allTogetherMid[allTogetherMid.country == 'United_States_of_America']"
   ]
  },
  {
   "cell_type": "code",
   "execution_count": 31,
   "metadata": {},
   "outputs": [
    {
     "data": {
      "text/html": [
       "<div>\n",
       "<style scoped>\n",
       "    .dataframe tbody tr th:only-of-type {\n",
       "        vertical-align: middle;\n",
       "    }\n",
       "\n",
       "    .dataframe tbody tr th {\n",
       "        vertical-align: top;\n",
       "    }\n",
       "\n",
       "    .dataframe thead th {\n",
       "        text-align: right;\n",
       "    }\n",
       "</style>\n",
       "<table border=\"1\" class=\"dataframe\">\n",
       "  <thead>\n",
       "    <tr style=\"text-align: right;\">\n",
       "      <th></th>\n",
       "      <th>country</th>\n",
       "      <th>nCFR</th>\n",
       "      <th>cCFR</th>\n",
       "      <th>total_deaths</th>\n",
       "      <th>cum_known_t</th>\n",
       "      <th>total_cases</th>\n",
       "      <th>nCFR_UQ</th>\n",
       "      <th>nCFR_LQ</th>\n",
       "      <th>cCFR_UQ</th>\n",
       "      <th>cCFR_LQ</th>\n",
       "      <th>underreporting_estimate</th>\n",
       "      <th>lower</th>\n",
       "      <th>upper</th>\n",
       "      <th>quantile25</th>\n",
       "      <th>quantile75</th>\n",
       "    </tr>\n",
       "  </thead>\n",
       "  <tbody>\n",
       "    <tr>\n",
       "      <th>98</th>\n",
       "      <td>Ukraine</td>\n",
       "      <td>0.025399</td>\n",
       "      <td>0.060065</td>\n",
       "      <td>239</td>\n",
       "      <td>3979.0</td>\n",
       "      <td>9410</td>\n",
       "      <td>0.022220</td>\n",
       "      <td>0.028577</td>\n",
       "      <td>0.052683</td>\n",
       "      <td>0.067448</td>\n",
       "      <td>0.233079</td>\n",
       "      <td>0.227779</td>\n",
       "      <td>0.252045</td>\n",
       "      <td>0.057525</td>\n",
       "      <td>0.062606</td>\n",
       "    </tr>\n",
       "    <tr>\n",
       "      <th>99</th>\n",
       "      <td>United_Arab_Emirates</td>\n",
       "      <td>0.007821</td>\n",
       "      <td>0.018396</td>\n",
       "      <td>89</td>\n",
       "      <td>4838.0</td>\n",
       "      <td>11380</td>\n",
       "      <td>0.006202</td>\n",
       "      <td>0.009439</td>\n",
       "      <td>0.014609</td>\n",
       "      <td>0.022183</td>\n",
       "      <td>0.761034</td>\n",
       "      <td>0.821385</td>\n",
       "      <td>0.766367</td>\n",
       "      <td>0.017093</td>\n",
       "      <td>0.019699</td>\n",
       "    </tr>\n",
       "    <tr>\n",
       "      <th>100</th>\n",
       "      <td>United_Kingdom</td>\n",
       "      <td>0.134525</td>\n",
       "      <td>0.256190</td>\n",
       "      <td>21678</td>\n",
       "      <td>84617.0</td>\n",
       "      <td>161145</td>\n",
       "      <td>0.132859</td>\n",
       "      <td>0.136191</td>\n",
       "      <td>0.253248</td>\n",
       "      <td>0.259131</td>\n",
       "      <td>0.054647</td>\n",
       "      <td>0.047384</td>\n",
       "      <td>0.065604</td>\n",
       "      <td>0.255177</td>\n",
       "      <td>0.257202</td>\n",
       "    </tr>\n",
       "    <tr>\n",
       "      <th>101</th>\n",
       "      <td>United_States_of_America</td>\n",
       "      <td>0.057630</td>\n",
       "      <td>0.106586</td>\n",
       "      <td>58355</td>\n",
       "      <td>547493.0</td>\n",
       "      <td>1012583</td>\n",
       "      <td>0.057176</td>\n",
       "      <td>0.058084</td>\n",
       "      <td>0.105768</td>\n",
       "      <td>0.107403</td>\n",
       "      <td>0.131350</td>\n",
       "      <td>0.113455</td>\n",
       "      <td>0.158282</td>\n",
       "      <td>0.106305</td>\n",
       "      <td>0.106867</td>\n",
       "    </tr>\n",
       "    <tr>\n",
       "      <th>102</th>\n",
       "      <td>Uruguay</td>\n",
       "      <td>0.024000</td>\n",
       "      <td>0.035800</td>\n",
       "      <td>15</td>\n",
       "      <td>419.0</td>\n",
       "      <td>625</td>\n",
       "      <td>0.012001</td>\n",
       "      <td>0.035999</td>\n",
       "      <td>0.018010</td>\n",
       "      <td>0.053589</td>\n",
       "      <td>0.391067</td>\n",
       "      <td>0.666295</td>\n",
       "      <td>0.317229</td>\n",
       "      <td>0.029678</td>\n",
       "      <td>0.041921</td>\n",
       "    </tr>\n",
       "  </tbody>\n",
       "</table>\n",
       "</div>"
      ],
      "text/plain": [
       "                      country      nCFR      cCFR  total_deaths  cum_known_t  \\\n",
       "98                    Ukraine  0.025399  0.060065           239       3979.0   \n",
       "99       United_Arab_Emirates  0.007821  0.018396            89       4838.0   \n",
       "100            United_Kingdom  0.134525  0.256190         21678      84617.0   \n",
       "101  United_States_of_America  0.057630  0.106586         58355     547493.0   \n",
       "102                   Uruguay  0.024000  0.035800            15        419.0   \n",
       "\n",
       "     total_cases   nCFR_UQ   nCFR_LQ   cCFR_UQ   cCFR_LQ  \\\n",
       "98          9410  0.022220  0.028577  0.052683  0.067448   \n",
       "99         11380  0.006202  0.009439  0.014609  0.022183   \n",
       "100       161145  0.132859  0.136191  0.253248  0.259131   \n",
       "101      1012583  0.057176  0.058084  0.105768  0.107403   \n",
       "102          625  0.012001  0.035999  0.018010  0.053589   \n",
       "\n",
       "     underreporting_estimate     lower     upper  quantile25  quantile75  \n",
       "98                  0.233079  0.227779  0.252045    0.057525    0.062606  \n",
       "99                  0.761034  0.821385  0.766367    0.017093    0.019699  \n",
       "100                 0.054647  0.047384  0.065604    0.255177    0.257202  \n",
       "101                 0.131350  0.113455  0.158282    0.106305    0.106867  \n",
       "102                 0.391067  0.666295  0.317229    0.029678    0.041921  "
      ]
     },
     "execution_count": 31,
     "metadata": {},
     "output_type": "execute_result"
    }
   ],
   "source": [
    "allTogetherHigh.tail()"
   ]
  },
  {
   "cell_type": "markdown",
   "metadata": {},
   "source": [
    "## Saving Output"
   ]
  },
  {
   "cell_type": "code",
   "execution_count": null,
   "metadata": {},
   "outputs": [],
   "source": [
    "!ls -lah ../output/"
   ]
  },
  {
   "cell_type": "code",
   "execution_count": null,
   "metadata": {},
   "outputs": [],
   "source": [
    "date_tag = datetime.now().strftime(\"%Y-%m-%d-%Hh\")"
   ]
  },
  {
   "cell_type": "code",
   "execution_count": null,
   "metadata": {},
   "outputs": [],
   "source": [
    "allTogetherLow.to_csv(\"../output/low_{}.csv\".format(date_tag))\n",
    "allTogetherMid.to_csv(\"../output/mid_{}.csv\".format(date_tag))\n",
    "allTogetherHigh.to_csv(\"../output/high_{}.csv\".format(date_tag))"
   ]
  },
  {
   "cell_type": "code",
   "execution_count": null,
   "metadata": {},
   "outputs": [],
   "source": [
    "!ls -lah ../output/"
   ]
  },
  {
   "cell_type": "markdown",
   "metadata": {},
   "source": [
    "## Function for Individual Country"
   ]
  },
  {
   "cell_type": "code",
   "execution_count": null,
   "metadata": {},
   "outputs": [],
   "source": [
    "def underreporting_estimate_country(country):\n",
    "    nCFR_low, cCFR_low, _, _, _, _, _,_, _ = calculate_underestimate(country,hospitalisation_to_death_truncated_low)\n",
    "    nCFR_mid, cCFR_mid, _, _, _, _, _,_, _ = calculate_underestimate(country,hospitalisation_to_death_truncated_mid)\n",
    "    nCFR_high, cCFR_high, total_deaths, cum_known_t, total_cases, _, _,_, _ = calculate_underestimate(country,hospitalisation_to_death_truncated_high)\n",
    "    \n",
    "    underreporting_estimate_low = cCFRBaseline / (100*cCFR_low)\n",
    "    underreporting_estimate_mid = cCFRBaseline / (100*cCFR_mid)\n",
    "    underreporting_estimate_high =  cCFRBaseline / (100*cCFR_high)\n",
    "    print(nCFR_low, nCFR_mid, nCFR_high)\n",
    "    return { 'naive_CFR_': \"{:.2f}%\".format(nCFR_mid*100),\n",
    "             'underreporting_low':   \"{:.2f}%\".format(underreporting_estimate_low*100),\n",
    "             'underreporting_mid':   \"{:.2f}%\".format(underreporting_estimate_mid*100),\n",
    "             'underreporting_high':  \"{:.2f}%\".format(underreporting_estimate_high*100)\n",
    "           }"
   ]
  },
  {
   "cell_type": "code",
   "execution_count": null,
   "metadata": {},
   "outputs": [],
   "source": [
    "underreporting_estimate_country(\"Brazil\")"
   ]
  },
  {
   "cell_type": "code",
   "execution_count": null,
   "metadata": {},
   "outputs": [],
   "source": [
    "underreporting_estimate_country(\"United_States_of_America\")"
   ]
  },
  {
   "cell_type": "code",
   "execution_count": null,
   "metadata": {},
   "outputs": [],
   "source": [
    "underreporting_estimate_country(\"Lebanon\")"
   ]
  },
  {
   "cell_type": "code",
   "execution_count": null,
   "metadata": {},
   "outputs": [],
   "source": [
    "underreporting_estimate_country(\"Germany\")"
   ]
  },
  {
   "cell_type": "code",
   "execution_count": null,
   "metadata": {},
   "outputs": [],
   "source": [
    "underreporting_estimate_country(\"Switzerland\")"
   ]
  },
  {
   "cell_type": "markdown",
   "metadata": {},
   "source": [
    "# Sources\n",
    "1. https://cmmid.github.io/topics/covid19/severity/global_cfr_estimates.html"
   ]
  }
 ],
 "metadata": {
  "kernelspec": {
   "display_name": "Bayesian",
   "language": "python",
   "name": "bayesian"
  },
  "language_info": {
   "codemirror_mode": {
    "name": "ipython",
    "version": 3
   },
   "file_extension": ".py",
   "mimetype": "text/x-python",
   "name": "python",
   "nbconvert_exporter": "python",
   "pygments_lexer": "ipython3",
   "version": "3.6.5"
  }
 },
 "nbformat": 4,
 "nbformat_minor": 2
}
