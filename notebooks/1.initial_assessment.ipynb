{
 "cells": [
  {
   "cell_type": "code",
   "execution_count": 1,
   "metadata": {},
   "outputs": [],
   "source": [
    "import pandas as pd\n",
    "import numpy as np\n",
    "from scipy.stats import lognorm\n",
    "from tqdm import tqdm_notebook\n",
    "from statsmodels.stats.proportion import proportion_confint"
   ]
  },
  {
   "cell_type": "code",
   "execution_count": 2,
   "metadata": {},
   "outputs": [
    {
     "name": "stdout",
     "output_type": "stream",
     "text": [
      "case_distribution.csv   case_distribution_2.csv case_distribution_3.csv\r\n"
     ]
    }
   ],
   "source": [
    "!ls ../data"
   ]
  },
  {
   "cell_type": "markdown",
   "metadata": {},
   "source": [
    "## Functions"
   ]
  },
  {
   "cell_type": "code",
   "execution_count": 3,
   "metadata": {},
   "outputs": [],
   "source": [
    "def muTransform(zMedian):\n",
    "    return np.log(zMedian)"
   ]
  },
  {
   "cell_type": "code",
   "execution_count": 4,
   "metadata": {},
   "outputs": [],
   "source": [
    "def sigmaTransform(zMean, mu):\n",
    "    return np.sqrt(2*(np.log(zMean)-mu))"
   ]
  },
  {
   "cell_type": "code",
   "execution_count": 5,
   "metadata": {},
   "outputs": [],
   "source": [
    "def plnorm(x, mu, sigma):\n",
    "    shape  = sigma\n",
    "    loc    = 0\n",
    "    scale  = np.exp(mu)\n",
    "    return lognorm.cdf(x, shape, loc, scale)"
   ]
  },
  {
   "cell_type": "code",
   "execution_count": 6,
   "metadata": {},
   "outputs": [],
   "source": [
    "def hospitalisation_to_death_truncated(x,mu,sigma):\n",
    "    return plnorm(x + 1, mu, sigma) - plnorm(x, mu, sigma)\n",
    "\n",
    "def hospitalisation_to_death_truncated_low(x):\n",
    "    return hospitalisation_to_death_truncated(x,muLow, sigmaLow)\n",
    "\n",
    "def hospitalisation_to_death_truncated_mid(x):\n",
    "    return hospitalisation_to_death_truncated(x,muMid, sigmaMid)\n",
    "\n",
    "def hospitalisation_to_death_truncated_high(x):\n",
    "    return hospitalisation_to_death_truncated(x,muHigh, sigmaHigh)"
   ]
  },
  {
   "cell_type": "markdown",
   "metadata": {},
   "source": [
    "## Parameters"
   ]
  },
  {
   "cell_type": "code",
   "execution_count": 7,
   "metadata": {},
   "outputs": [],
   "source": [
    "# setting the baseline CFR\n",
    "cCFRBaseline = 1.4\n",
    "cCFREstimateRange = (1.2, 1.7)\n",
    "# lower end of the range\n",
    "zmeanLow = 8.7\n",
    "zmedianLow = 6.7\n",
    "# middle of the range\n",
    "zmeanMid = 13\n",
    "zmedianMid = 9.1\n",
    "# upper end of the range\n",
    "zmeanHigh = 20.9\n",
    "zmedianHigh = 13.7"
   ]
  },
  {
   "cell_type": "code",
   "execution_count": 32,
   "metadata": {},
   "outputs": [
    {
     "data": {
      "text/plain": [
       "1.2"
      ]
     },
     "execution_count": 32,
     "metadata": {},
     "output_type": "execute_result"
    }
   ],
   "source": []
  },
  {
   "cell_type": "code",
   "execution_count": 8,
   "metadata": {},
   "outputs": [],
   "source": [
    "muLow=muTransform(zmedianLow)\n",
    "sigmaLow = sigmaTransform(zmeanLow, muLow)"
   ]
  },
  {
   "cell_type": "code",
   "execution_count": 9,
   "metadata": {},
   "outputs": [],
   "source": [
    "muMid = muTransform(zmedianMid)\n",
    "sigmaMid = sigmaTransform(zmeanMid, muMid)"
   ]
  },
  {
   "cell_type": "code",
   "execution_count": 10,
   "metadata": {},
   "outputs": [],
   "source": [
    "muHigh = muTransform(zmedianHigh)\n",
    "sigmaHigh = sigmaTransform(zmeanHigh, muHigh)"
   ]
  },
  {
   "cell_type": "code",
   "execution_count": 11,
   "metadata": {},
   "outputs": [
    {
     "data": {
      "text/plain": [
       "(1.9021075263969205, 2.2082744135228043, 2.617395832834079)"
      ]
     },
     "execution_count": 11,
     "metadata": {},
     "output_type": "execute_result"
    }
   ],
   "source": [
    "muLow, muMid, muHigh"
   ]
  },
  {
   "cell_type": "code",
   "execution_count": 12,
   "metadata": {},
   "outputs": [
    {
     "data": {
      "text/plain": [
       "(0.7227938838474179, 0.8446004309005916, 0.9190792415637358)"
      ]
     },
     "execution_count": 12,
     "metadata": {},
     "output_type": "execute_result"
    }
   ],
   "source": [
    "sigmaLow, sigmaMid, sigmaHigh"
   ]
  },
  {
   "cell_type": "markdown",
   "metadata": {},
   "source": [
    "## Clean Dataset"
   ]
  },
  {
   "cell_type": "code",
   "execution_count": 13,
   "metadata": {},
   "outputs": [
    {
     "data": {
      "text/html": [
       "<div>\n",
       "<style scoped>\n",
       "    .dataframe tbody tr th:only-of-type {\n",
       "        vertical-align: middle;\n",
       "    }\n",
       "\n",
       "    .dataframe tbody tr th {\n",
       "        vertical-align: top;\n",
       "    }\n",
       "\n",
       "    .dataframe thead th {\n",
       "        text-align: right;\n",
       "    }\n",
       "</style>\n",
       "<table border=\"1\" class=\"dataframe\">\n",
       "  <thead>\n",
       "    <tr style=\"text-align: right;\">\n",
       "      <th></th>\n",
       "      <th>dateRep</th>\n",
       "      <th>day</th>\n",
       "      <th>month</th>\n",
       "      <th>year</th>\n",
       "      <th>cases</th>\n",
       "      <th>deaths</th>\n",
       "      <th>countriesAndTerritories</th>\n",
       "      <th>geoId</th>\n",
       "      <th>countryterritoryCode</th>\n",
       "      <th>popData2018</th>\n",
       "    </tr>\n",
       "  </thead>\n",
       "  <tbody>\n",
       "    <tr>\n",
       "      <th>10942</th>\n",
       "      <td>25/03/2020</td>\n",
       "      <td>25</td>\n",
       "      <td>3</td>\n",
       "      <td>2020</td>\n",
       "      <td>0</td>\n",
       "      <td>0</td>\n",
       "      <td>Zimbabwe</td>\n",
       "      <td>ZW</td>\n",
       "      <td>ZWE</td>\n",
       "      <td>14439018.0</td>\n",
       "    </tr>\n",
       "    <tr>\n",
       "      <th>10943</th>\n",
       "      <td>24/03/2020</td>\n",
       "      <td>24</td>\n",
       "      <td>3</td>\n",
       "      <td>2020</td>\n",
       "      <td>0</td>\n",
       "      <td>1</td>\n",
       "      <td>Zimbabwe</td>\n",
       "      <td>ZW</td>\n",
       "      <td>ZWE</td>\n",
       "      <td>14439018.0</td>\n",
       "    </tr>\n",
       "    <tr>\n",
       "      <th>10944</th>\n",
       "      <td>23/03/2020</td>\n",
       "      <td>23</td>\n",
       "      <td>3</td>\n",
       "      <td>2020</td>\n",
       "      <td>0</td>\n",
       "      <td>0</td>\n",
       "      <td>Zimbabwe</td>\n",
       "      <td>ZW</td>\n",
       "      <td>ZWE</td>\n",
       "      <td>14439018.0</td>\n",
       "    </tr>\n",
       "    <tr>\n",
       "      <th>10945</th>\n",
       "      <td>22/03/2020</td>\n",
       "      <td>22</td>\n",
       "      <td>3</td>\n",
       "      <td>2020</td>\n",
       "      <td>1</td>\n",
       "      <td>0</td>\n",
       "      <td>Zimbabwe</td>\n",
       "      <td>ZW</td>\n",
       "      <td>ZWE</td>\n",
       "      <td>14439018.0</td>\n",
       "    </tr>\n",
       "    <tr>\n",
       "      <th>10946</th>\n",
       "      <td>21/03/2020</td>\n",
       "      <td>21</td>\n",
       "      <td>3</td>\n",
       "      <td>2020</td>\n",
       "      <td>1</td>\n",
       "      <td>0</td>\n",
       "      <td>Zimbabwe</td>\n",
       "      <td>ZW</td>\n",
       "      <td>ZWE</td>\n",
       "      <td>14439018.0</td>\n",
       "    </tr>\n",
       "  </tbody>\n",
       "</table>\n",
       "</div>"
      ],
      "text/plain": [
       "          dateRep  day  month  year  cases  deaths countriesAndTerritories  \\\n",
       "10942  25/03/2020   25      3  2020      0       0                Zimbabwe   \n",
       "10943  24/03/2020   24      3  2020      0       1                Zimbabwe   \n",
       "10944  23/03/2020   23      3  2020      0       0                Zimbabwe   \n",
       "10945  22/03/2020   22      3  2020      1       0                Zimbabwe   \n",
       "10946  21/03/2020   21      3  2020      1       0                Zimbabwe   \n",
       "\n",
       "      geoId countryterritoryCode  popData2018  \n",
       "10942    ZW                  ZWE   14439018.0  \n",
       "10943    ZW                  ZWE   14439018.0  \n",
       "10944    ZW                  ZWE   14439018.0  \n",
       "10945    ZW                  ZWE   14439018.0  \n",
       "10946    ZW                  ZWE   14439018.0  "
      ]
     },
     "execution_count": 13,
     "metadata": {},
     "output_type": "execute_result"
    }
   ],
   "source": [
    "dataset = pd.read_csv('../data/case_distribution_3.csv')\n",
    "dataset.tail()"
   ]
  },
  {
   "cell_type": "code",
   "execution_count": 14,
   "metadata": {},
   "outputs": [],
   "source": [
    "dataset.rename(columns = {\n",
    "    \"dateRep\": \"date\",\n",
    "    \"cases\": \"new_cases\",\n",
    "    \"deaths\": \"new_deaths\",\n",
    "    \"countriesAndTerritories\": \"country\"\n",
    "},inplace=True)\n",
    "allTogetherClean = dataset[['date', 'country', 'new_cases', 'new_deaths']]"
   ]
  },
  {
   "cell_type": "code",
   "execution_count": 15,
   "metadata": {},
   "outputs": [
    {
     "data": {
      "text/html": [
       "<div>\n",
       "<style scoped>\n",
       "    .dataframe tbody tr th:only-of-type {\n",
       "        vertical-align: middle;\n",
       "    }\n",
       "\n",
       "    .dataframe tbody tr th {\n",
       "        vertical-align: top;\n",
       "    }\n",
       "\n",
       "    .dataframe thead th {\n",
       "        text-align: right;\n",
       "    }\n",
       "</style>\n",
       "<table border=\"1\" class=\"dataframe\">\n",
       "  <thead>\n",
       "    <tr style=\"text-align: right;\">\n",
       "      <th></th>\n",
       "      <th>date</th>\n",
       "      <th>country</th>\n",
       "      <th>new_cases</th>\n",
       "      <th>new_deaths</th>\n",
       "    </tr>\n",
       "  </thead>\n",
       "  <tbody>\n",
       "    <tr>\n",
       "      <th>10942</th>\n",
       "      <td>25/03/2020</td>\n",
       "      <td>Zimbabwe</td>\n",
       "      <td>0</td>\n",
       "      <td>0</td>\n",
       "    </tr>\n",
       "    <tr>\n",
       "      <th>10943</th>\n",
       "      <td>24/03/2020</td>\n",
       "      <td>Zimbabwe</td>\n",
       "      <td>0</td>\n",
       "      <td>1</td>\n",
       "    </tr>\n",
       "    <tr>\n",
       "      <th>10944</th>\n",
       "      <td>23/03/2020</td>\n",
       "      <td>Zimbabwe</td>\n",
       "      <td>0</td>\n",
       "      <td>0</td>\n",
       "    </tr>\n",
       "    <tr>\n",
       "      <th>10945</th>\n",
       "      <td>22/03/2020</td>\n",
       "      <td>Zimbabwe</td>\n",
       "      <td>1</td>\n",
       "      <td>0</td>\n",
       "    </tr>\n",
       "    <tr>\n",
       "      <th>10946</th>\n",
       "      <td>21/03/2020</td>\n",
       "      <td>Zimbabwe</td>\n",
       "      <td>1</td>\n",
       "      <td>0</td>\n",
       "    </tr>\n",
       "  </tbody>\n",
       "</table>\n",
       "</div>"
      ],
      "text/plain": [
       "             date   country  new_cases  new_deaths\n",
       "10942  25/03/2020  Zimbabwe          0           0\n",
       "10943  24/03/2020  Zimbabwe          0           1\n",
       "10944  23/03/2020  Zimbabwe          0           0\n",
       "10945  22/03/2020  Zimbabwe          1           0\n",
       "10946  21/03/2020  Zimbabwe          1           0"
      ]
     },
     "execution_count": 15,
     "metadata": {},
     "output_type": "execute_result"
    }
   ],
   "source": [
    "## Exclude some countries\n",
    "exclude_coutries = ['Canada','Cases_on_an_international_conveyance_Japan']\n",
    "allTogetherClean = allTogetherClean[~allTogetherClean.country.isin(exclude_coutries)]\n",
    "allTogetherClean.tail()"
   ]
  },
  {
   "cell_type": "code",
   "execution_count": 16,
   "metadata": {},
   "outputs": [],
   "source": [
    "## Remove lower data points\n",
    "threshold = 10\n",
    "list_filtered_countried = allTogetherClean.groupby('country').filter(lambda x: x['new_deaths'].sum()>threshold)['country'].unique()"
   ]
  },
  {
   "cell_type": "code",
   "execution_count": 17,
   "metadata": {},
   "outputs": [
    {
     "data": {
      "text/html": [
       "<div>\n",
       "<style scoped>\n",
       "    .dataframe tbody tr th:only-of-type {\n",
       "        vertical-align: middle;\n",
       "    }\n",
       "\n",
       "    .dataframe tbody tr th {\n",
       "        vertical-align: top;\n",
       "    }\n",
       "\n",
       "    .dataframe thead th {\n",
       "        text-align: right;\n",
       "    }\n",
       "</style>\n",
       "<table border=\"1\" class=\"dataframe\">\n",
       "  <thead>\n",
       "    <tr style=\"text-align: right;\">\n",
       "      <th></th>\n",
       "      <th>date</th>\n",
       "      <th>country</th>\n",
       "      <th>new_cases</th>\n",
       "      <th>new_deaths</th>\n",
       "    </tr>\n",
       "  </thead>\n",
       "  <tbody>\n",
       "    <tr>\n",
       "      <th>6447</th>\n",
       "      <td>04/01/2020</td>\n",
       "      <td>United_States_of_America</td>\n",
       "      <td>0</td>\n",
       "      <td>0</td>\n",
       "    </tr>\n",
       "    <tr>\n",
       "      <th>6448</th>\n",
       "      <td>03/01/2020</td>\n",
       "      <td>United_States_of_America</td>\n",
       "      <td>0</td>\n",
       "      <td>0</td>\n",
       "    </tr>\n",
       "    <tr>\n",
       "      <th>6449</th>\n",
       "      <td>02/01/2020</td>\n",
       "      <td>United_States_of_America</td>\n",
       "      <td>0</td>\n",
       "      <td>0</td>\n",
       "    </tr>\n",
       "    <tr>\n",
       "      <th>6450</th>\n",
       "      <td>01/01/2020</td>\n",
       "      <td>United_States_of_America</td>\n",
       "      <td>0</td>\n",
       "      <td>0</td>\n",
       "    </tr>\n",
       "    <tr>\n",
       "      <th>6451</th>\n",
       "      <td>31/12/2019</td>\n",
       "      <td>United_States_of_America</td>\n",
       "      <td>0</td>\n",
       "      <td>0</td>\n",
       "    </tr>\n",
       "  </tbody>\n",
       "</table>\n",
       "</div>"
      ],
      "text/plain": [
       "            date                   country  new_cases  new_deaths\n",
       "6447  04/01/2020  United_States_of_America          0           0\n",
       "6448  03/01/2020  United_States_of_America          0           0\n",
       "6449  02/01/2020  United_States_of_America          0           0\n",
       "6450  01/01/2020  United_States_of_America          0           0\n",
       "6451  31/12/2019  United_States_of_America          0           0"
      ]
     },
     "execution_count": 17,
     "metadata": {},
     "output_type": "execute_result"
    }
   ],
   "source": [
    "allTogetherClean = allTogetherClean[allTogetherClean.country.isin(list_filtered_countried)].reset_index(drop=True)\n",
    "allTogetherClean.tail()"
   ]
  },
  {
   "cell_type": "markdown",
   "metadata": {},
   "source": [
    "## Calculate UnderReporting"
   ]
  },
  {
   "cell_type": "markdown",
   "metadata": {},
   "source": [
    "$$u_{t}=\\frac{\\sum_{j=0}^{t}c_{t-j}f_{j}}{c_{t}}$$\n",
    "\n",
    "where:  \n",
    "$u_{t}$ = underestimation of the proportion of cases with known outcomes  \n",
    "$c_{t}$ = daily case incidence at time t  \n",
    "$f_{t}$ = proportion of cases with delay of t between confirmation and death"
   ]
  },
  {
   "cell_type": "code",
   "execution_count": 23,
   "metadata": {},
   "outputs": [
    {
     "data": {
      "text/plain": [
       "(0.019261872877561325, 0.045163897430561914)"
      ]
     },
     "execution_count": 23,
     "metadata": {},
     "output_type": "execute_result"
    }
   ],
   "source": [
    "nCFR_UQ, nCFR_LQ =  proportion_confint(23, 714)\n",
    "nCFR_UQ, nCFR_LQ"
   ]
  },
  {
   "cell_type": "code",
   "execution_count": 25,
   "metadata": {},
   "outputs": [
    {
     "data": {
      "text/plain": [
       "0.01926187"
      ]
     },
     "execution_count": 25,
     "metadata": {},
     "output_type": "execute_result"
    }
   ],
   "source": [
    "round(nCFR_UQ,8)"
   ]
  },
  {
   "cell_type": "code",
   "execution_count": 30,
   "metadata": {},
   "outputs": [],
   "source": [
    "def calculate_underestimate(country, delay_func):\n",
    "    df = allTogetherClean[allTogetherClean.country==country].iloc[::-1].reset_index(drop=True)\n",
    "    cumulative_known_t = 0\n",
    "    for ii in range(0,len(df)):\n",
    "        #print(\"ii\",ii)\n",
    "        known_i = 0\n",
    "        for jj in range(0,ii+1):\n",
    "            #print(\"jj\",jj)\n",
    "            known_jj = df['new_cases'].loc[ii-jj]*delay_func(jj)\n",
    "            known_i = known_i + known_jj\n",
    "        cumulative_known_t = cumulative_known_t + known_i\n",
    "        #print(\"-\"*30)\n",
    "    cum_known_t = round(cumulative_known_t)\n",
    "    # naive CFR value\n",
    "    nCFR = df['new_deaths'].sum()/df['new_cases'].sum()\n",
    "    # corrected CFR estimator\n",
    "    cCFR = df['new_deaths'].sum()/cum_known_t\n",
    "    total_deaths = df['new_deaths'].sum()\n",
    "    total_cases = df['new_cases'].sum()\n",
    "    nCFR_UQ, nCFR_LQ =  proportion_confint(total_deaths, total_cases)\n",
    "    cCFR_UQ, cCFR_LQ =  proportion_confint(total_deaths, cum_known_t)\n",
    "    return nCFR, cCFR, total_deaths, cum_known_t, total_cases, round(nCFR_UQ,8), round(nCFR_LQ,8), round(cCFR_UQ,8), round(cCFR_LQ,8)"
   ]
  },
  {
   "cell_type": "code",
   "execution_count": 31,
   "metadata": {},
   "outputs": [
    {
     "data": {
      "text/plain": [
       "(0.05052631578947368,\n",
       " 0.06722689075630252,\n",
       " 24,\n",
       " 357.0,\n",
       " 475,\n",
       " 0.03082925,\n",
       " 0.07022338,\n",
       " 0.04125082,\n",
       " 0.09320296)"
      ]
     },
     "execution_count": 31,
     "metadata": {},
     "output_type": "execute_result"
    }
   ],
   "source": [
    "calculate_underestimate(\"Albania\", hospitalisation_to_death_truncated_low)"
   ]
  },
  {
   "cell_type": "code",
   "execution_count": null,
   "metadata": {},
   "outputs": [],
   "source": [
    "calculate_underestimate(\"Afghanistan\", hospitalisation_to_death_truncated_low)"
   ]
  },
  {
   "cell_type": "code",
   "execution_count": null,
   "metadata": {},
   "outputs": [],
   "source": [
    "calculate_underestimate(\"Argentina\", hospitalisation_to_death_truncated_low)"
   ]
  },
  {
   "cell_type": "code",
   "execution_count": null,
   "metadata": {},
   "outputs": [],
   "source": [
    "calculate_underestimate(\"Brazil\", hospitalisation_to_death_truncated_low)"
   ]
  },
  {
   "cell_type": "code",
   "execution_count": 55,
   "metadata": {},
   "outputs": [],
   "source": [
    "def return_complete_df(dataframe, delay_func):\n",
    "    all_countries = dataframe['country'].unique()\n",
    "    new_df = pd.DataFrame(columns = [\n",
    "        'country',\n",
    "        'nCFR', \n",
    "        'cCFR', \n",
    "        'total_deaths', \n",
    "        'cum_known_t', \n",
    "        'total_cases',\n",
    "        'nCFR_UQ',\n",
    "        'nCFR_LQ',\n",
    "        'cCFR_UQ',\n",
    "        'cCFR_LQ',\n",
    "        'underreporting_estimate',\n",
    "        'lower',\n",
    "        'upper',\n",
    "        'quantile25',\n",
    "        'quantile75'\n",
    "    ])\n",
    "    \n",
    "    for c in tqdm_notebook(all_countries):\n",
    "        nCFR, cCFR, total_deaths, cum_known_t, total_cases, nCFR_UQ, nCFR_LQ,cCFR_UQ, cCFR_LQ = calculate_underestimate(c,delay_func)\n",
    "        quantile25, quantile75 = proportion_confint(total_deaths, cum_known_t, alpha = 0.5)\n",
    "        new_df = new_df.append({'country':c,\n",
    "                       'nCFR':nCFR,\n",
    "                       'cCFR': cCFR,\n",
    "                       'total_deaths': total_deaths,\n",
    "                       'cum_known_t': int(cum_known_t),\n",
    "                       'total_cases': total_cases,\n",
    "                       'nCFR_UQ': nCFR_UQ,\n",
    "                       'nCFR_LQ': nCFR_LQ,\n",
    "                       'cCFR_UQ': cCFR_UQ,\n",
    "                       'cCFR_LQ': cCFR_LQ,\n",
    "                       'underreporting_estimate': cCFRBaseline / (100*cCFR),\n",
    "                       'lower': cCFREstimateRange[0]/ (100 * cCFR_UQ),\n",
    "                       'upper': cCFREstimateRange[1]/ (100 * cCFR_LQ),\n",
    "                       'quantile25': quantile25,\n",
    "                       'quantile75': quantile75            \n",
    "                      }, ignore_index=True)\n",
    "    return new_df"
   ]
  },
  {
   "cell_type": "code",
   "execution_count": 56,
   "metadata": {},
   "outputs": [
    {
     "data": {
      "application/vnd.jupyter.widget-view+json": {
       "model_id": "6d222552d2794b929ad790af4be31bd9",
       "version_major": 2,
       "version_minor": 0
      },
      "text/plain": [
       "HBox(children=(IntProgress(value=0, max=84), HTML(value='')))"
      ]
     },
     "metadata": {},
     "output_type": "display_data"
    },
    {
     "name": "stdout",
     "output_type": "stream",
     "text": [
      "\n"
     ]
    }
   ],
   "source": [
    "allTogetherLow = return_complete_df(allTogetherClean, hospitalisation_to_death_truncated_low)\n",
    "allTogetherMid = return_complete_df(allTogetherClean, hospitalisation_to_death_truncated_mid)\n",
    "allTogetherHigh = return_complete_df(allTogetherClean, hospitalisation_to_death_truncated_high)"
   ]
  },
  {
   "cell_type": "code",
   "execution_count": 59,
   "metadata": {},
   "outputs": [
    {
     "data": {
      "text/html": [
       "<div>\n",
       "<style scoped>\n",
       "    .dataframe tbody tr th:only-of-type {\n",
       "        vertical-align: middle;\n",
       "    }\n",
       "\n",
       "    .dataframe tbody tr th {\n",
       "        vertical-align: top;\n",
       "    }\n",
       "\n",
       "    .dataframe thead th {\n",
       "        text-align: right;\n",
       "    }\n",
       "</style>\n",
       "<table border=\"1\" class=\"dataframe\">\n",
       "  <thead>\n",
       "    <tr style=\"text-align: right;\">\n",
       "      <th></th>\n",
       "      <th>country</th>\n",
       "      <th>nCFR</th>\n",
       "      <th>cCFR</th>\n",
       "      <th>total_deaths</th>\n",
       "      <th>cum_known_t</th>\n",
       "      <th>total_cases</th>\n",
       "      <th>nCFR_UQ</th>\n",
       "      <th>nCFR_LQ</th>\n",
       "      <th>cCFR_UQ</th>\n",
       "      <th>cCFR_LQ</th>\n",
       "      <th>underreporting_estimate</th>\n",
       "      <th>lower</th>\n",
       "      <th>upper</th>\n",
       "      <th>quantile25</th>\n",
       "      <th>quantile75</th>\n",
       "    </tr>\n",
       "  </thead>\n",
       "  <tbody>\n",
       "    <tr>\n",
       "      <th>79</th>\n",
       "      <td>Turkey</td>\n",
       "      <td>0.021548</td>\n",
       "      <td>0.040209</td>\n",
       "      <td>1403</td>\n",
       "      <td>34893</td>\n",
       "      <td>65111</td>\n",
       "      <td>0.020433</td>\n",
       "      <td>0.022663</td>\n",
       "      <td>0.038147</td>\n",
       "      <td>0.042270</td>\n",
       "      <td>0.348184</td>\n",
       "      <td>0.314569</td>\n",
       "      <td>0.402178</td>\n",
       "      <td>0.039499</td>\n",
       "      <td>0.040918</td>\n",
       "    </tr>\n",
       "    <tr>\n",
       "      <th>80</th>\n",
       "      <td>Ukraine</td>\n",
       "      <td>0.029063</td>\n",
       "      <td>0.060382</td>\n",
       "      <td>98</td>\n",
       "      <td>1623</td>\n",
       "      <td>3372</td>\n",
       "      <td>0.023393</td>\n",
       "      <td>0.034733</td>\n",
       "      <td>0.048794</td>\n",
       "      <td>0.071970</td>\n",
       "      <td>0.231857</td>\n",
       "      <td>0.245933</td>\n",
       "      <td>0.236209</td>\n",
       "      <td>0.056394</td>\n",
       "      <td>0.064370</td>\n",
       "    </tr>\n",
       "    <tr>\n",
       "      <th>81</th>\n",
       "      <td>United_Arab_Emirates</td>\n",
       "      <td>0.005676</td>\n",
       "      <td>0.011537</td>\n",
       "      <td>28</td>\n",
       "      <td>2427</td>\n",
       "      <td>4933</td>\n",
       "      <td>0.003580</td>\n",
       "      <td>0.007772</td>\n",
       "      <td>0.007288</td>\n",
       "      <td>0.015785</td>\n",
       "      <td>1.213500</td>\n",
       "      <td>1.646461</td>\n",
       "      <td>1.076945</td>\n",
       "      <td>0.010075</td>\n",
       "      <td>0.012999</td>\n",
       "    </tr>\n",
       "    <tr>\n",
       "      <th>82</th>\n",
       "      <td>United_Kingdom</td>\n",
       "      <td>0.128972</td>\n",
       "      <td>0.219314</td>\n",
       "      <td>12107</td>\n",
       "      <td>55204</td>\n",
       "      <td>93873</td>\n",
       "      <td>0.126828</td>\n",
       "      <td>0.131116</td>\n",
       "      <td>0.215862</td>\n",
       "      <td>0.222766</td>\n",
       "      <td>0.063835</td>\n",
       "      <td>0.055591</td>\n",
       "      <td>0.076313</td>\n",
       "      <td>0.218126</td>\n",
       "      <td>0.220502</td>\n",
       "    </tr>\n",
       "    <tr>\n",
       "      <th>83</th>\n",
       "      <td>United_States_of_America</td>\n",
       "      <td>0.042750</td>\n",
       "      <td>0.067546</td>\n",
       "      <td>26057</td>\n",
       "      <td>385768</td>\n",
       "      <td>609516</td>\n",
       "      <td>0.042242</td>\n",
       "      <td>0.043258</td>\n",
       "      <td>0.066754</td>\n",
       "      <td>0.068338</td>\n",
       "      <td>0.207267</td>\n",
       "      <td>0.179765</td>\n",
       "      <td>0.248764</td>\n",
       "      <td>0.067273</td>\n",
       "      <td>0.067818</td>\n",
       "    </tr>\n",
       "  </tbody>\n",
       "</table>\n",
       "</div>"
      ],
      "text/plain": [
       "                     country      nCFR      cCFR total_deaths cum_known_t  \\\n",
       "79                    Turkey  0.021548  0.040209         1403       34893   \n",
       "80                   Ukraine  0.029063  0.060382           98        1623   \n",
       "81      United_Arab_Emirates  0.005676  0.011537           28        2427   \n",
       "82            United_Kingdom  0.128972  0.219314        12107       55204   \n",
       "83  United_States_of_America  0.042750  0.067546        26057      385768   \n",
       "\n",
       "   total_cases   nCFR_UQ   nCFR_LQ   cCFR_UQ   cCFR_LQ  \\\n",
       "79       65111  0.020433  0.022663  0.038147  0.042270   \n",
       "80        3372  0.023393  0.034733  0.048794  0.071970   \n",
       "81        4933  0.003580  0.007772  0.007288  0.015785   \n",
       "82       93873  0.126828  0.131116  0.215862  0.222766   \n",
       "83      609516  0.042242  0.043258  0.066754  0.068338   \n",
       "\n",
       "    underreporting_estimate     lower     upper  quantile25  quantile75  \n",
       "79                 0.348184  0.314569  0.402178    0.039499    0.040918  \n",
       "80                 0.231857  0.245933  0.236209    0.056394    0.064370  \n",
       "81                 1.213500  1.646461  1.076945    0.010075    0.012999  \n",
       "82                 0.063835  0.055591  0.076313    0.218126    0.220502  \n",
       "83                 0.207267  0.179765  0.248764    0.067273    0.067818  "
      ]
     },
     "execution_count": 59,
     "metadata": {},
     "output_type": "execute_result"
    }
   ],
   "source": [
    "allTogetherLow.tail()"
   ]
  },
  {
   "cell_type": "code",
   "execution_count": 89,
   "metadata": {},
   "outputs": [],
   "source": [
    "def underreporting_estimate_country(country):\n",
    "    nCFR_low, cCFR_low, _, _, _, _, _,_, _ = calculate_underestimate(country,hospitalisation_to_death_truncated_low)\n",
    "    nCFR_mid, cCFR_mid, _, _, _, _, _,_, _ = calculate_underestimate(country,hospitalisation_to_death_truncated_mid)\n",
    "    nCFR_high, cCFR_high, total_deaths, cum_known_t, total_cases, _, _,_, _ = calculate_underestimate(country,hospitalisation_to_death_truncated_high)\n",
    "    \n",
    "    underreporting_estimate_low = cCFRBaseline / (100*cCFR_low)\n",
    "    underreporting_estimate_mid = cCFRBaseline / (100*cCFR_mid)\n",
    "    underreporting_estimate_high =  cCFRBaseline / (100*cCFR_high)\n",
    "    print(nCFR_low, nCFR_mid, nCFR_high)\n",
    "    return { 'naive': \"{:.2f}%\".format(nCFR_mid*100),\n",
    "             'low':   \"{:.2f}%\".format(underreporting_estimate_low*100),\n",
    "             'mid':   \"{:.2f}%\".format(underreporting_estimate_mid*100),\n",
    "             'high':  \"{:.2f}%\".format(underreporting_estimate_high*100)\n",
    "           }"
   ]
  },
  {
   "cell_type": "code",
   "execution_count": 90,
   "metadata": {},
   "outputs": [
    {
     "name": "stdout",
     "output_type": "stream",
     "text": [
      "0.06064444620378434 0.06064444620378434 0.06064444620378434\n"
     ]
    },
    {
     "data": {
      "text/plain": [
       "{'naive': '6.06%', 'low': '13.06%', 'mid': '10.49%', 'high': '7.51%'}"
      ]
     },
     "execution_count": 90,
     "metadata": {},
     "output_type": "execute_result"
    }
   ],
   "source": [
    "underreporting_estimate_country(\"Brazil\")"
   ]
  },
  {
   "cell_type": "code",
   "execution_count": 91,
   "metadata": {},
   "outputs": [
    {
     "name": "stdout",
     "output_type": "stream",
     "text": [
      "0.04275031336338997 0.04275031336338997 0.04275031336338997\n"
     ]
    },
    {
     "data": {
      "text/plain": [
       "{'naive': '4.28%', 'low': '20.73%', 'mid': '16.90%', 'high': '12.32%'}"
      ]
     },
     "execution_count": 91,
     "metadata": {},
     "output_type": "execute_result"
    }
   ],
   "source": [
    "underreporting_estimate_country(\"United_States_of_America\")"
   ]
  },
  {
   "cell_type": "code",
   "execution_count": 92,
   "metadata": {},
   "outputs": [
    {
     "name": "stdout",
     "output_type": "stream",
     "text": [
      "0.04317434210526316 0.04317434210526316 0.04317434210526316\n"
     ]
    },
    {
     "data": {
      "text/plain": [
       "{'naive': '4.32%', 'low': '21.71%', 'mid': '18.13%', 'high': '13.65%'}"
      ]
     },
     "execution_count": 92,
     "metadata": {},
     "output_type": "execute_result"
    }
   ],
   "source": [
    "underreporting_estimate_country(\"Argentina\")"
   ]
  },
  {
   "cell_type": "markdown",
   "metadata": {},
   "source": [
    "# Sources\n",
    "1. https://cmmid.github.io/topics/covid19/severity/global_cfr_estimates.html"
   ]
  }
 ],
 "metadata": {
  "kernelspec": {
   "display_name": "Bayesian",
   "language": "python",
   "name": "bayesian"
  },
  "language_info": {
   "codemirror_mode": {
    "name": "ipython",
    "version": 3
   },
   "file_extension": ".py",
   "mimetype": "text/x-python",
   "name": "python",
   "nbconvert_exporter": "python",
   "pygments_lexer": "ipython3",
   "version": "3.6.5"
  }
 },
 "nbformat": 4,
 "nbformat_minor": 2
}
